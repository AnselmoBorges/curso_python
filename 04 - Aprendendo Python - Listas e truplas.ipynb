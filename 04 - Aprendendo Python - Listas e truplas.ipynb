{
 "cells": [
  {
   "cell_type": "markdown",
   "metadata": {},
   "source": [
    "# Aprendendo Python - Listas e truplas\n",
    "Nesse notebook vamos ver como trabalhamos com listas e truplas, elas são muito uteis na construção de menus, um pequeno catalogo ou algo do tipo. Seguem abaixo alguns exemplos de uso."
   ]
  },
  {
   "cell_type": "markdown",
   "metadata": {},
   "source": [
    "## Tuplas\n",
    "Vamos criar abaixo um exemplo de tuplas com os meses do ano. Como se tratam de strings, vou colocar elas entre aspas dentro do parenteses e separadas por virgula."
   ]
  },
  {
   "cell_type": "code",
   "execution_count": 2,
   "metadata": {
    "collapsed": false
   },
   "outputs": [
    {
     "data": {
      "text/plain": [
       "('janeiro',\n",
       " 'fevereiro',\n",
       " 'março',\n",
       " 'abril',\n",
       " 'maio',\n",
       " 'junho',\n",
       " 'julho',\n",
       " 'agosto',\n",
       " 'setembro',\n",
       " 'outubro',\n",
       " 'novembro',\n",
       " 'dezembro')"
      ]
     },
     "execution_count": 2,
     "metadata": {},
     "output_type": "execute_result"
    }
   ],
   "source": [
    "meses = ('janeiro','fevereiro','março','abril','maio','junho','julho','agosto','setembro','outubro','novembro','dezembro')\n",
    "meses"
   ]
  },
  {
   "cell_type": "markdown",
   "metadata": {},
   "source": [
    "### Validando o tipo de dado de uma tupla\n",
    "Eu vou usar o comando type na variavel e é possivel ver que é uma tupla."
   ]
  },
  {
   "cell_type": "code",
   "execution_count": 3,
   "metadata": {
    "collapsed": false
   },
   "outputs": [
    {
     "data": {
      "text/plain": [
       "tuple"
      ]
     },
     "execution_count": 3,
     "metadata": {},
     "output_type": "execute_result"
    }
   ],
   "source": [
    "type(meses)"
   ]
  },
  {
   "cell_type": "markdown",
   "metadata": {},
   "source": [
    "## Listas\n",
    "Agora vamos criar uma lista, a diferença de sintaxe entre uma tupla e uma lista é que a tupla eu fecho com parenteses e a lista eu fecho com colchete, existe mais uma diferença crucial, mas veremos mais a diante. Vamos criar uma lista com a variavel aluno."
   ]
  },
  {
   "cell_type": "code",
   "execution_count": 4,
   "metadata": {
    "collapsed": false
   },
   "outputs": [
    {
     "data": {
      "text/plain": [
       "['anselmo', 'adriana', 'andreia', 'lucia', 'junior']"
      ]
     },
     "execution_count": 4,
     "metadata": {},
     "output_type": "execute_result"
    }
   ],
   "source": [
    "aluno = ['anselmo','adriana','andreia','lucia','junior']\n",
    "aluno"
   ]
  },
  {
   "cell_type": "markdown",
   "metadata": {},
   "source": [
    "### Validando do tipo de dado lista\n",
    "Assim como fizemos acima, vamos usar o type para ver se essa variavel é realmente uma lista"
   ]
  },
  {
   "cell_type": "code",
   "execution_count": 7,
   "metadata": {
    "collapsed": false
   },
   "outputs": [
    {
     "data": {
      "text/plain": [
       "list"
      ]
     },
     "execution_count": 7,
     "metadata": {},
     "output_type": "execute_result"
    }
   ],
   "source": [
    "type(aluno)"
   ]
  },
  {
   "cell_type": "markdown",
   "metadata": {},
   "source": [
    "Assim como visto em strings podemos usar algumas funções para essa variavel, len de comprimento é uma delas."
   ]
  },
  {
   "cell_type": "code",
   "execution_count": 8,
   "metadata": {
    "collapsed": false
   },
   "outputs": [
    {
     "data": {
      "text/plain": [
       "12"
      ]
     },
     "execution_count": 8,
     "metadata": {},
     "output_type": "execute_result"
    }
   ],
   "source": [
    "len(meses)"
   ]
  },
  {
   "cell_type": "code",
   "execution_count": 9,
   "metadata": {
    "collapsed": false
   },
   "outputs": [
    {
     "data": {
      "text/plain": [
       "5"
      ]
     },
     "execution_count": 9,
     "metadata": {},
     "output_type": "execute_result"
    }
   ],
   "source": [
    "len(aluno)"
   ]
  },
  {
   "cell_type": "markdown",
   "metadata": {},
   "source": [
    "Note que ele exibe a quantidade de registros de cada uma das variaveis.\n",
    "\n",
    "## Acessando elementos pelo indice:\n",
    "Assim como acessamos as letras via string, cada registro tem sua posição, sendo assim posso trazer qualquer registro da lista ou tupla, começando com 0 ou de traz pra frente usando o -1 como ultimo registro."
   ]
  },
  {
   "cell_type": "code",
   "execution_count": 11,
   "metadata": {
    "collapsed": false
   },
   "outputs": [
    {
     "data": {
      "text/plain": [
       "'outubro'"
      ]
     },
     "execution_count": 11,
     "metadata": {},
     "output_type": "execute_result"
    }
   ],
   "source": [
    "meses[9]"
   ]
  },
  {
   "cell_type": "code",
   "execution_count": 12,
   "metadata": {
    "collapsed": false
   },
   "outputs": [
    {
     "data": {
      "text/plain": [
       "'andreia'"
      ]
     },
     "execution_count": 12,
     "metadata": {},
     "output_type": "execute_result"
    }
   ],
   "source": [
    "aluno[2]"
   ]
  },
  {
   "cell_type": "markdown",
   "metadata": {},
   "source": [
    "## Principal diferença entre listas e tuplas\n",
    "* **tuplas** - Imutáveis, ou seja, depois de criadas não podem ser alteradas, conforme o exemplo, os meses do ano são imutáveis, portanto vale a pena criar uma tupla\n",
    "* **listas** - Mutáveis, posso remover ou alterar qualquer registro da lista caso necessário. Conforme o exemplo criamos nomes de alunos, onde podemos alterar, adicionar ou remover conforme a necessidade.\n",
    "\n",
    "Segue abaixo alguns exemplos de como alterar listas"
   ]
  },
  {
   "cell_type": "markdown",
   "metadata": {},
   "source": [
    "## Alterações na lista\n",
    "Vamos mostar como alterar, adicionar ou remover um valor da lista, começaremos com alterar."
   ]
  },
  {
   "cell_type": "code",
   "execution_count": 15,
   "metadata": {
    "collapsed": false
   },
   "outputs": [
    {
     "data": {
      "text/plain": [
       "['cristiano', 'adriana', 'andreia', 'lucia', 'junior']"
      ]
     },
     "execution_count": 15,
     "metadata": {},
     "output_type": "execute_result"
    }
   ],
   "source": [
    "# Vamos alterar o aluno anselmo para o aluno cristiano\n",
    "aluno[0] = 'cristiano'\n",
    "aluno"
   ]
  },
  {
   "cell_type": "code",
   "execution_count": 16,
   "metadata": {
    "collapsed": false
   },
   "outputs": [
    {
     "data": {
      "text/plain": [
       "['cristiano', 'adriana', 'andreia', 'lucia', 'junior', 'anselmo']"
      ]
     },
     "execution_count": 16,
     "metadata": {},
     "output_type": "execute_result"
    }
   ],
   "source": [
    "# Vamos adicionar o aluno anselmo novamente mas no final da lista (append sempre coloca no final)\n",
    "aluno.append('anselmo')\n",
    "aluno"
   ]
  },
  {
   "cell_type": "code",
   "execution_count": 17,
   "metadata": {
    "collapsed": false
   },
   "outputs": [
    {
     "data": {
      "text/plain": [
       "['cristiano', 'ricardo', 'adriana', 'andreia', 'lucia', 'junior', 'anselmo']"
      ]
     },
     "execution_count": 17,
     "metadata": {},
     "output_type": "execute_result"
    }
   ],
   "source": [
    "# Vamos adicionar o aluno ricardo em uma posição especifica no caso a segunda, pra isso usamos o metodo insert.\n",
    "aluno.insert(1,'ricardo')\n",
    "aluno"
   ]
  },
  {
   "cell_type": "code",
   "execution_count": 19,
   "metadata": {
    "collapsed": false
   },
   "outputs": [
    {
     "data": {
      "text/plain": [
       "['adriana', 'andreia', 'anselmo', 'cristiano', 'junior', 'lucia', 'ricardo']"
      ]
     },
     "execution_count": 19,
     "metadata": {},
     "output_type": "execute_result"
    }
   ],
   "source": [
    "# Colocando a lista em ordem alfabética\n",
    "aluno.sort()\n",
    "aluno"
   ]
  },
  {
   "cell_type": "code",
   "execution_count": 20,
   "metadata": {
    "collapsed": false
   },
   "outputs": [
    {
     "data": {
      "text/plain": [
       "'cristiano'"
      ]
     },
     "execution_count": 20,
     "metadata": {},
     "output_type": "execute_result"
    }
   ],
   "source": [
    "# Removendo um item com o indice:\n",
    "aluno.pop(3)"
   ]
  },
  {
   "cell_type": "code",
   "execution_count": 21,
   "metadata": {
    "collapsed": false
   },
   "outputs": [
    {
     "data": {
      "text/plain": [
       "['adriana', 'andreia', 'anselmo', 'junior', 'lucia', 'ricardo']"
      ]
     },
     "execution_count": 21,
     "metadata": {},
     "output_type": "execute_result"
    }
   ],
   "source": [
    "# Validando\n",
    "aluno"
   ]
  },
  {
   "cell_type": "code",
   "execution_count": 22,
   "metadata": {
    "collapsed": false
   },
   "outputs": [
    {
     "data": {
      "text/plain": [
       "['adriana', 'andreia', 'anselmo', 'junior', 'lucia']"
      ]
     },
     "execution_count": 22,
     "metadata": {},
     "output_type": "execute_result"
    }
   ],
   "source": [
    "# Removendo usando o remove - a diferença é que eu falo qual a string\n",
    "aluno.remove('ricardo')\n",
    "aluno"
   ]
  },
  {
   "cell_type": "code",
   "execution_count": 23,
   "metadata": {
    "collapsed": false
   },
   "outputs": [
    {
     "data": {
      "text/plain": [
       "['adriana', 'andreia', 'anselmo', 'junior', 'lucia', 'cleber', 'andre', 'caio']"
      ]
     },
     "execution_count": 23,
     "metadata": {},
     "output_type": "execute_result"
    }
   ],
   "source": [
    "# Juntando listas\n",
    "aluno2 = ['cleber','andre','caio']\n",
    "total = aluno + aluno2\n",
    "total"
   ]
  },
  {
   "cell_type": "markdown",
   "metadata": {},
   "source": [
    "# Exercicio\n",
    "Vamos criar um programa que pede sua data de nascimento no formato DD-MM-AAAA, com essa informação temos que exibir em texto a mesnagem \"Você nasceu no mẽs...\" de maio por exemplo, usando uma tupla de variaveis de meses."
   ]
  },
  {
   "cell_type": "code",
   "execution_count": 1,
   "metadata": {
    "collapsed": false
   },
   "outputs": [
    {
     "name": "stdout",
     "output_type": "stream",
     "text": [
      "Digite sua data de nascimento no formato DD-MM-AAAA: 07-05-1997\n",
      "Você nasceu no mês de: maio\n"
     ]
    }
   ],
   "source": [
    "meses = ('janeiro','fevereiro','março','abril','maio','junho','julho','agosto','setembro','outubro','novembro','dezembro')\n",
    "dn = input('Digite sua data de nascimento no formato DD-MM-AAAA: ')\n",
    "mes = int(dn[3:5])\n",
    "print('Você nasceu no mês de:', meses[mes - 1])"
   ]
  }
 ],
 "metadata": {
  "anaconda-cloud": {},
  "kernelspec": {
   "display_name": "Python 3",
   "language": "python",
   "name": "python3"
  },
  "language_info": {
   "codemirror_mode": {
    "name": "ipython",
    "version": 3
   },
   "file_extension": ".py",
   "mimetype": "text/x-python",
   "name": "python",
   "nbconvert_exporter": "python",
   "pygments_lexer": "ipython3",
   "version": "3.5.2"
  }
 },
 "nbformat": 4,
 "nbformat_minor": 2
}
