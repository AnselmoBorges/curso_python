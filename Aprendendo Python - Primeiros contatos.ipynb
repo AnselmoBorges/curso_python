{
 "cells": [
  {
   "cell_type": "markdown",
   "metadata": {},
   "source": [
    "# Aprendendo a programar em Pyhton - Primeiros contatos\n",
    "Nesse material vamos aprender pelo menos o básico pra sobreviver com Python. A ideia é partir desde o basico das formulas matemáticas até o mais avançado (Se Deus quiser!), montei esse material para o meu aprendizado e estou compartilhando, portanto acho que se eu aprendí você tambem aprende.\n",
    "\n",
    "Vamos nessa então:\n",
    "\n",
    "## Calculos básicos matemáticos:\n",
    "Vamos fazer algumas contas simples no bash e ver se funciona, aqui no Jupyter basta digitar a conta desejada e dar shift+enter. Vamos tentar com a conta 5+5."
   ]
  },
  {
   "cell_type": "code",
   "execution_count": 1,
   "metadata": {},
   "outputs": [
    {
     "data": {
      "text/plain": [
       "10"
      ]
     },
     "execution_count": 1,
     "metadata": {},
     "output_type": "execute_result"
    }
   ],
   "source": [
    "5+5"
   ]
  },
  {
   "cell_type": "markdown",
   "metadata": {},
   "source": [
    "Note que no in, fica o seu comando e no out o resultado, o que torna bem simples os testes da programação aqui na interface web, sem necessidade de abrir terminais ou outro tipo de coisa, é digitou, shift+enter e boa."
   ]
  },
  {
   "cell_type": "markdown",
   "metadata": {},
   "source": [
    "## Usando a função print\n",
    "A função print mostra a mensagem que você quiser dentro dos parenteses do comando, no caso de numeros não precisa de aspas, mas no caso de texto, como tem espaço vai precisar como no exemplo abaixo, aqui vamos usar o comando print dando uma mensagem com o texto \"Aprendendo Python\", se liga."
   ]
  },
  {
   "cell_type": "code",
   "execution_count": 2,
   "metadata": {},
   "outputs": [
    {
     "name": "stdout",
     "output_type": "stream",
     "text": [
      "Aprendendo Python\n"
     ]
    }
   ],
   "source": [
    "print('Aprendendo Python')"
   ]
  },
  {
   "cell_type": "markdown",
   "metadata": {},
   "source": [
    "Note na saida a mensagem Aprendendo Python como sugerido, vamos fazer o mesmo com numeros agora, por exemplo o ano atual, 2019."
   ]
  },
  {
   "cell_type": "code",
   "execution_count": 3,
   "metadata": {},
   "outputs": [
    {
     "name": "stdout",
     "output_type": "stream",
     "text": [
      "2019\n"
     ]
    }
   ],
   "source": [
    "print(2019)"
   ]
  },
  {
   "cell_type": "markdown",
   "metadata": {},
   "source": [
    "Como disse no caso de numeros não precisamos das aspas, inclusive ele já entende como um resultado do tipo numerico, se no caso tivessemos espaços entre os numeros, teriamos que colocar aspas e seria tratado como um resultado do tipo texto."
   ]
  },
  {
   "cell_type": "markdown",
   "metadata": {},
   "source": [
    "## Exemplo com as funções apresentadas:\n",
    "Com base no que foi mostrado nesse primeiro documento, vamos criar um primeiro programa, que vai apresentar uma mensagem, fazer um calculo concatenando com uma segunda mensagem e uma mensagem final de saida."
   ]
  },
  {
   "cell_type": "code",
   "execution_count": 7,
   "metadata": {},
   "outputs": [
    {
     "name": "stdout",
     "output_type": "stream",
     "text": [
      "Esse é um programa em Python!\n",
      "O resultado de 50+20 é: 70\n",
      "Viu só?\n"
     ]
    }
   ],
   "source": [
    "print('Esse é um programa em Python!')\n",
    "print('O resultado de 50+20 é:',50+20)\n",
    "print('Viu só?')"
   ]
  },
  {
   "cell_type": "markdown",
   "metadata": {},
   "source": [
    "## Fazendo uso de variáveis:\n",
    "A ideia de variáveis é não precisarmos mexer no código, podemos ter um unico código e a parte que muda, a parte alterável, pode ser ajustada e até reutilizada se necessário. Vamos ver os exemplos abaixo:"
   ]
  },
  {
   "cell_type": "code",
   "execution_count": 9,
   "metadata": {},
   "outputs": [
    {
     "name": "stdout",
     "output_type": "stream",
     "text": [
      "O preço da cerveja que você escolheu é: 8.0\n",
      "O preço da cerveja que você escolheu é: 11.0\n"
     ]
    }
   ],
   "source": [
    "preco_brahma = 8.00\n",
    "preco_original = 11.00\n",
    "print('O preço da cerveja que você escolheu é:',preco_brahma)\n",
    "print('O preço da cerveja que você escolheu é:',preco_original)"
   ]
  },
  {
   "cell_type": "markdown",
   "metadata": {},
   "source": [
    "Se liga, podemos usar simplesmente o codigo que informa o preço da cerveja e só alteramos as variáveis **preco_brahma** e **preco_original** ainda assim se o preço das cervejas mudarem, posso mudar somente o valor."
   ]
  },
  {
   "cell_type": "markdown",
   "metadata": {},
   "source": [
    "Como um novo exemplo vamos simular um programa que calcula o cambio do dolar, vamos criar a variavel Dolar e atribuir o valor dele em Real, sendo assim vamos fazer um calculo de quanto daria o valor pedido de dolares em Real."
   ]
  },
  {
   "cell_type": "code",
   "execution_count": 11,
   "metadata": {},
   "outputs": [
    {
     "name": "stdout",
     "output_type": "stream",
     "text": [
      "O valor solicitado em dolares 340 dá em reais 1271.6000000000001\n"
     ]
    }
   ],
   "source": [
    "c_dolar = 3.74\n",
    "t_dolar = 340\n",
    "t_real= c_dolar * t_dolar\n",
    "print('O valor solicitado em dolares',t_dolar,'dá em reais',t_real)"
   ]
  },
  {
   "cell_type": "markdown",
   "metadata": {},
   "source": [
    "Em resumo, criamos 3 variaveis, cotação do dolar, quantidade de dolar e valor total em reais, veja que é a multiplicação das 2 variáveis. Colocamos tudo isso numa função print que gera uma mensagem com os resultados."
   ]
  },
  {
   "cell_type": "markdown",
   "metadata": {},
   "source": [
    "## Tipos de variaveis:\n",
    "Vamos ver quais os tipos possíveis de variáveis conforme vimos acima alguns casos, elas podem ser inteiros, decimais, texto e etc, seguem alguns exemplos"
   ]
  },
  {
   "cell_type": "code",
   "execution_count": 15,
   "metadata": {},
   "outputs": [
    {
     "data": {
      "text/plain": [
       "int"
      ]
     },
     "execution_count": 15,
     "metadata": {},
     "output_type": "execute_result"
    }
   ],
   "source": [
    "idade = 31\n",
    "dolar = 3.74\n",
    "nome = 'Anselmo'\n",
    "type(idade)"
   ]
  },
  {
   "cell_type": "code",
   "execution_count": 16,
   "metadata": {},
   "outputs": [
    {
     "data": {
      "text/plain": [
       "float"
      ]
     },
     "execution_count": 16,
     "metadata": {},
     "output_type": "execute_result"
    }
   ],
   "source": [
    "type(dolar)"
   ]
  },
  {
   "cell_type": "code",
   "execution_count": 17,
   "metadata": {},
   "outputs": [
    {
     "data": {
      "text/plain": [
       "str"
      ]
     },
     "execution_count": 17,
     "metadata": {},
     "output_type": "execute_result"
    }
   ],
   "source": [
    "type(nome)"
   ]
  },
  {
   "cell_type": "markdown",
   "metadata": {},
   "source": [
    "Esses são apenas alguns dos tipos de dado no Python, uma lista maior pode ser encontrada nesse link https://pt.wikibooks.org/wiki/Python/Conceitos_b%C3%A1sicos/Tipos_e_operadores"
   ]
  }
 ],
 "metadata": {
  "kernelspec": {
   "display_name": "Python 3",
   "language": "python",
   "name": "python3"
  },
  "language_info": {
   "codemirror_mode": {
    "name": "ipython",
    "version": 3
   },
   "file_extension": ".py",
   "mimetype": "text/x-python",
   "name": "python",
   "nbconvert_exporter": "python",
   "pygments_lexer": "ipython3",
   "version": "3.7.3"
  }
 },
 "nbformat": 4,
 "nbformat_minor": 2
}
