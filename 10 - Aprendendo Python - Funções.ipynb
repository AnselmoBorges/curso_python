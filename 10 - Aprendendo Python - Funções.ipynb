{
 "cells": [
  {
   "cell_type": "markdown",
   "metadata": {},
   "source": [
    "# 10 - Aprendendo Python - Funções\n",
    "Funções servem para guardar um bloco de código e reutilizar em outra parte do programa, se houver alguma operação que se usa varias vezes, compensa chamar a função para utilização. Vamos ver como podemos criar uma função:"
   ]
  },
  {
   "cell_type": "code",
   "execution_count": 3,
   "metadata": {
    "collapsed": false
   },
   "outputs": [
    {
     "name": "stdout",
     "output_type": "stream",
     "text": [
      "Seja bem vindo!\n"
     ]
    }
   ],
   "source": [
    "## Criando uma função sem usar argumento:\n",
    "def mensagem():\n",
    "    print('Seja bem vindo!')\n",
    "\n",
    "mensagem()"
   ]
  },
  {
   "cell_type": "code",
   "execution_count": 5,
   "metadata": {
    "collapsed": false
   },
   "outputs": [
    {
     "name": "stdout",
     "output_type": "stream",
     "text": [
      "Seja bem vindo Anselmo.\n"
     ]
    }
   ],
   "source": [
    "## Criando uma função usando argumento:\n",
    "user='anselmo'\n",
    "def mensagem(nome):\n",
    "    print('Seja bem vindo '+ nome.title() + '.')\n",
    "mensagem(user)"
   ]
  },
  {
   "cell_type": "markdown",
   "metadata": {},
   "source": [
    "Nos exemplos acima, temos a possibilidade de criar uma função sem nada dentro e criar uma função com o argumento nome e depois setar uma variavel chamada nome, onde dentro do def ela se chama nome, porem eu poderia não setar e colocar o que quero dentro do parenteses da função manualmente. Imagina, se eu tivesse que mudar o \"Seja bem vindo\" para \"Olá\" em um codigo que faz isso várias vezes eu teria que editar todo o programa, usando funções edito somente a função e onde ela é chamada, ela será atualizada."
   ]
  },
  {
   "cell_type": "markdown",
   "metadata": {},
   "source": [
    "## Usando mais de um argumento\n",
    "Vamos criar uma função que vai fazer o calculo do IMC (\"Indice de massa corporea\"), que é peso dividido por altura vezes altura."
   ]
  },
  {
   "cell_type": "code",
   "execution_count": 9,
   "metadata": {
    "collapsed": true
   },
   "outputs": [],
   "source": [
    "def imc(peso,altura):\n",
    "    valor_imc = peso / (altura * altura)\n",
    "    print(valor_imc)"
   ]
  },
  {
   "cell_type": "code",
   "execution_count": 10,
   "metadata": {
    "collapsed": false
   },
   "outputs": [
    {
     "name": "stdout",
     "output_type": "stream",
     "text": [
      "30.961728749720702\n"
     ]
    }
   ],
   "source": [
    "imc(97,1.77)"
   ]
  },
  {
   "cell_type": "markdown",
   "metadata": {},
   "source": [
    "Se eu quiser em que grau de obesidade que me encontro, a partir da tabela do IMC de forma básica, usando a forma return para o resultado virar a variável, caso o contrário ele dá erro se eu for fazer \"imc(97,1.77) > 32\" direto, pois não é uma variável:"
   ]
  },
  {
   "cell_type": "code",
   "execution_count": 11,
   "metadata": {
    "collapsed": false
   },
   "outputs": [
    {
     "name": "stdout",
     "output_type": "stream",
     "text": [
      "30.961728749720702\n"
     ]
    },
    {
     "ename": "TypeError",
     "evalue": "unorderable types: NoneType() > int()",
     "output_type": "error",
     "traceback": [
      "\u001b[1;31m\u001b[0m",
      "\u001b[1;31mTypeError\u001b[0mTraceback (most recent call last)",
      "\u001b[1;32m<ipython-input-11-ac5cad42a184>\u001b[0m in \u001b[0;36m<module>\u001b[1;34m()\u001b[0m\n\u001b[1;32m----> 1\u001b[1;33m \u001b[1;32mif\u001b[0m \u001b[0mimc\u001b[0m\u001b[1;33m(\u001b[0m\u001b[1;36m97\u001b[0m\u001b[1;33m,\u001b[0m\u001b[1;36m1.77\u001b[0m\u001b[1;33m)\u001b[0m \u001b[1;33m>\u001b[0m \u001b[1;36m32\u001b[0m\u001b[1;33m:\u001b[0m\u001b[1;33m\u001b[0m\u001b[0m\n\u001b[0m\u001b[0;32m      2\u001b[0m     \u001b[0mprint\u001b[0m\u001b[1;33m(\u001b[0m\u001b[1;34m'Obeso'\u001b[0m\u001b[1;33m)\u001b[0m\u001b[1;33m\u001b[0m\u001b[0m\n",
      "\u001b[1;31mTypeError\u001b[0m: unorderable types: NoneType() > int()"
     ]
    }
   ],
   "source": [
    "## Tentando direto dá erro:\n",
    "if imc(97,1.77) > 32:\n",
    "    print('Obeso')"
   ]
  },
  {
   "cell_type": "code",
   "execution_count": 12,
   "metadata": {
    "collapsed": false
   },
   "outputs": [],
   "source": [
    "## Usando return\n",
    "def imc(peso,altura):\n",
    "    valor_imc = peso / (altura * altura)\n",
    "    return(valor_imc)"
   ]
  },
  {
   "cell_type": "code",
   "execution_count": 14,
   "metadata": {
    "collapsed": false
   },
   "outputs": [
    {
     "name": "stdout",
     "output_type": "stream",
     "text": [
      "Falta pouco pra ser obeso\n"
     ]
    }
   ],
   "source": [
    "if imc(97,1.77) > 32:\n",
    "    print('Obeso')\n",
    "else:\n",
    "    print('Falta pouco pra ser obeso')"
   ]
  },
  {
   "cell_type": "markdown",
   "metadata": {},
   "source": [
    "Usando o return ele virá uma váriavel e pode ser usado com um if externo por exemplo. Qualquer variavel setada só funciona dentro do programa, como vc chama externo eu tenho que usar o return."
   ]
  },
  {
   "cell_type": "markdown",
   "metadata": {},
   "source": [
    "## Exercício:\n",
    "Vamos partir do principio o calculo de IMC e realizar a tabela toda de IMC de homens e mulheres, segue abaixo a tabela:\n",
    "\n",
    "| Condição          | IMC em Mulheres | IMC em Homens |\n",
    "|-------------------|-----------------|---------------|\n",
    "| Abaixo do peso    | < 19.1          | < 20.7        |\n",
    "| no peso normal    | 19.1 - 25.8     | 20.7 - 26.4   |\n",
    "| Meio fora do peso | 25.8 - 27.3     | 26.4 - 27.8   |\n",
    "| Acima do peso     | 27.3 - 32.3     | 27.8 - 31.1   |\n",
    "| Obesão            | 32.3            | 31.1          |\n",
    "\n",
    "Use funções para fazer os calculos e não esqueça de validar os inputs."
   ]
  },
  {
   "cell_type": "code",
   "execution_count": 17,
   "metadata": {
    "collapsed": false
   },
   "outputs": [
    {
     "name": "stdout",
     "output_type": "stream",
     "text": [
      "Vamos calcular o seu imc?\n",
      "Digite o seu sexo (M ou F): m\n",
      "\n",
      "\n",
      "Digite o peso (ex. 68.5): 97.8\n",
      "\n",
      "\n",
      "Digite a altura em metros (ex. 1.70): 1.78\n",
      "\n",
      "\n",
      "O seu IMC é: 30.86\n",
      "A sua classificação é: Acima do peso ideal\n"
     ]
    }
   ],
   "source": [
    "def imc(peso,altura):\n",
    "    imc = peso / (altura*altura)\n",
    "    return imc\n",
    "\n",
    "def class_imc(sexo,peso,altura):\n",
    "    valor_imc = imc(peso,altura)\n",
    "\n",
    "    if sexo == 'm':\n",
    "        if valor_imc < 20.7:\n",
    "            return \"Abaixo do peso\"\n",
    "        elif valor_imc >= 20.7 and valor_imc < 26.4:\n",
    "            return \"Peso normal\"\n",
    "        elif valor_imc >= 26.4 and valor_imc < 27.8:\n",
    "            return \"Marginalmente acima do peso\"\n",
    "        elif valor_imc >= 27.8 and valor_imc < 31.1:\n",
    "            return \"Acima do peso ideal\"\n",
    "        elif valor_imc >= 31.1:\n",
    "            return \"Obesidade\"\n",
    "        else:\n",
    "            return \"Erro de cálculo. Entre em contato com o administrador\"\n",
    "\n",
    "    if sexo == 'f':\n",
    "        if valor_imc < 19.1:\n",
    "            return \"Abaixo do peso\"\n",
    "        elif valor_imc >= 19.1 and valor_imc < 25.8:\n",
    "            return \"no peso normal\"\n",
    "        elif valor_imc >= 25.8 and valor_imc < 27.3:\n",
    "            return \"Mwio fora do peso\"\n",
    "        elif valor_imc >= 27.3 and valor_imc < 32.3:\n",
    "            return \"Acima do peso\"\n",
    "        elif valor_imc >= 32.3:\n",
    "            return \"Obesão\"\n",
    "        else:\n",
    "            return \"Erro de cálculo. Entre em contato com o administrador\"\n",
    "\n",
    "print('Vamos calcular o seu imc?')\n",
    "\n",
    "valid_sexo = False\n",
    "while valid_sexo == False:\n",
    "    sexo = input('Digite o seu sexo (M ou F): ').lower()\n",
    "    if sexo != 'm' and sexo != 'f':\n",
    "        print('Sexo inválido. Digite M ou F.')\n",
    "    else:\n",
    "        valid_sexo = True\n",
    "        print('\\n')\n",
    "\n",
    "valid_peso = False\n",
    "while valid_peso == False:\n",
    "    peso = input('Digite o peso (ex. 68.5): ')\n",
    "    try:\n",
    "        peso = float(peso)\n",
    "        if peso <= 0 or peso > 350:\n",
    "            print('Peso inválido. Número não pode ser zero ou negativo e deve ser inferior a 350.')\n",
    "        else:\n",
    "            valid_peso = True\n",
    "            print('\\n')\n",
    "    except:\n",
    "        print('Peso inválido. Use apenas números e separe os decimais com ponto.')\n",
    "\n",
    "valid_altura = False\n",
    "while valid_altura == False:\n",
    "    altura = input('Digite a altura em metros (ex. 1.70): ')\n",
    "    try:\n",
    "        altura = float(altura)\n",
    "        if altura <= 0 or altura > 3:\n",
    "            print('Altura inválida. Número não pode ser zero ou negativo e deve ser inferior a 3 metros.')\n",
    "        else:\n",
    "            valid_altura = True\n",
    "            print('\\n')\n",
    "    except:\n",
    "        print('Altura inválida. Use apenas números e separe os decimais com ponto.')\n",
    "\n",
    "\n",
    "v_imc = str(imc(peso,altura))\n",
    "c_imc = class_imc(sexo,peso,altura)\n",
    "\n",
    "print('O seu IMC é:',v_imc[0:5])\n",
    "print('A sua classificação é:',c_imc)"
   ]
  }
 ],
 "metadata": {
  "anaconda-cloud": {},
  "kernelspec": {
   "display_name": "Python 3",
   "language": "python",
   "name": "python3"
  },
  "language_info": {
   "codemirror_mode": {
    "name": "ipython",
    "version": 3
   },
   "file_extension": ".py",
   "mimetype": "text/x-python",
   "name": "python",
   "nbconvert_exporter": "python",
   "pygments_lexer": "ipython3",
   "version": "3.5.2"
  }
 },
 "nbformat": 4,
 "nbformat_minor": 0
}
