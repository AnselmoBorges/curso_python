{
 "cells": [
  {
   "cell_type": "markdown",
   "metadata": {},
   "source": [
    "# 10 - Aprendendo Python - Funções\n",
    "Funções servem para guardar um bloco de código e reutilizar em outra parte do programa, se houver alguma operação que se usa varias vezes, compensa chamar a função para utilização. Vamos ver como podemos criar uma função:"
   ]
  },
  {
   "cell_type": "code",
   "execution_count": 3,
   "metadata": {
    "collapsed": false
   },
   "outputs": [
    {
     "name": "stdout",
     "output_type": "stream",
     "text": [
      "Seja bem vindo!\n"
     ]
    }
   ],
   "source": [
    "## Criando uma função sem usar argumento:\n",
    "def mensagem():\n",
    "    print('Seja bem vindo!')\n",
    "\n",
    "mensagem()"
   ]
  },
  {
   "cell_type": "code",
   "execution_count": 5,
   "metadata": {
    "collapsed": false
   },
   "outputs": [
    {
     "name": "stdout",
     "output_type": "stream",
     "text": [
      "Seja bem vindo Anselmo.\n"
     ]
    }
   ],
   "source": [
    "## Criando uma função usando argumento:\n",
    "user='anselmo'\n",
    "def mensagem(nome):\n",
    "    print('Seja bem vindo '+ nome.title() + '.')\n",
    "mensagem(user)"
   ]
  },
  {
   "cell_type": "markdown",
   "metadata": {},
   "source": [
    "Nos exemplos acima, temos a possibilidade de criar uma função sem nada dentro e criar uma função com o argumento nome e depois setar uma variavel chamada nome, onde dentro do def ela se chama nome, porem!"
   ]
  }
 ],
 "metadata": {
  "anaconda-cloud": {},
  "kernelspec": {
   "display_name": "Python 3",
   "language": "python",
   "name": "python3"
  },
  "language_info": {
   "codemirror_mode": {
    "name": "ipython",
    "version": 3
   },
   "file_extension": ".py",
   "mimetype": "text/x-python",
   "name": "python",
   "nbconvert_exporter": "python",
   "pygments_lexer": "ipython3",
   "version": "3.5.2"
  }
 },
 "nbformat": 4,
 "nbformat_minor": 0
}
