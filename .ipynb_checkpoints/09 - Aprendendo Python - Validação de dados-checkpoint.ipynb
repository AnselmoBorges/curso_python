{
 "cells": [
  {
   "cell_type": "markdown",
   "metadata": {},
   "source": [
    "# 09 - Aprendendo Python - Validação de dados\n",
    "Até o momento estavamos ignorando a validação de dados até pra que ficasse mais facil de entender os passos anteriores, mas como a coisa está ficando séria, acho que é hora de incluir a validação nesse ponto.\n",
    "\n",
    "Vamos usar como exemplo o resultado do último exercício e fazer algumas alterações nele colocando validações:"
   ]
  },
  {
   "cell_type": "code",
   "execution_count": 1,
   "metadata": {
    "collapsed": false
   },
   "outputs": [
    {
     "name": "stdout",
     "output_type": "stream",
     "text": [
      "Digite o nome do produto: caneta\n",
      "Digite o preço do produto: 10\n",
      "Deseja comprar mais algum produto? (S ou N) s\n",
      "Digite o nome do produto: caderno\n",
      "Digite o preço do produto: 5\n",
      "Deseja comprar mais algum produto? (S ou N) n\n",
      "caneta - 10.0\n",
      "caderno - 5.0\n",
      "O total da fatura é: 15.0\n"
     ]
    }
   ],
   "source": [
    "repetir = 's'\n",
    "fatura = []\n",
    "total = 0\n",
    "\n",
    "while repetir == 's':\n",
    "    produto = input('Digite o nome do produto: ')\n",
    "    preco = float(input('Digite o preço do produto: '))\n",
    "    fatura.append([produto,preco])\n",
    "    total += preco\n",
    "    repetir = input('Deseja comprar mais algum produto? (S ou N) ').lower()\n",
    "\n",
    "for i in fatura:\n",
    "    print(i[0],'-',i[1])\n",
    "\n",
    "print('O total da fatura é:',total)"
   ]
  },
  {
   "cell_type": "markdown",
   "metadata": {},
   "source": [
    "Note que em um mundo perfeito, onde sabemos quais entradas vão ser feitas, temos certeza que nosso programa vai rodar, mas a melhor forma de testar é chamar alguem que não conhece seu código pra testar esse programa, assim as entradas não vem com o vício do programador, aumentando o numero possível de possibilidades. Se por exemplo colocamos o preco com virgula (10,00) o programa gera um erro, veja a baixo:"
   ]
  },
  {
   "cell_type": "code",
   "execution_count": 2,
   "metadata": {
    "collapsed": false
   },
   "outputs": [
    {
     "name": "stdout",
     "output_type": "stream",
     "text": [
      "Digite o nome do produto: Caneta\n",
      "Digite o preço do produto: 10,00\n"
     ]
    },
    {
     "ename": "ValueError",
     "evalue": "could not convert string to float: '10,00'",
     "output_type": "error",
     "traceback": [
      "\u001b[1;31m\u001b[0m",
      "\u001b[1;31mValueError\u001b[0mTraceback (most recent call last)",
      "\u001b[1;32m<ipython-input-2-578614e71f5e>\u001b[0m in \u001b[0;36m<module>\u001b[1;34m()\u001b[0m\n\u001b[0;32m      5\u001b[0m \u001b[1;32mwhile\u001b[0m \u001b[0mrepetir\u001b[0m \u001b[1;33m==\u001b[0m \u001b[1;34m's'\u001b[0m\u001b[1;33m:\u001b[0m\u001b[1;33m\u001b[0m\u001b[0m\n\u001b[0;32m      6\u001b[0m     \u001b[0mproduto\u001b[0m \u001b[1;33m=\u001b[0m \u001b[0minput\u001b[0m\u001b[1;33m(\u001b[0m\u001b[1;34m'Digite o nome do produto: '\u001b[0m\u001b[1;33m)\u001b[0m\u001b[1;33m\u001b[0m\u001b[0m\n\u001b[1;32m----> 7\u001b[1;33m     \u001b[0mpreco\u001b[0m \u001b[1;33m=\u001b[0m \u001b[0mfloat\u001b[0m\u001b[1;33m(\u001b[0m\u001b[0minput\u001b[0m\u001b[1;33m(\u001b[0m\u001b[1;34m'Digite o preço do produto: '\u001b[0m\u001b[1;33m)\u001b[0m\u001b[1;33m)\u001b[0m\u001b[1;33m\u001b[0m\u001b[0m\n\u001b[0m\u001b[0;32m      8\u001b[0m     \u001b[0mfatura\u001b[0m\u001b[1;33m.\u001b[0m\u001b[0mappend\u001b[0m\u001b[1;33m(\u001b[0m\u001b[1;33m[\u001b[0m\u001b[0mproduto\u001b[0m\u001b[1;33m,\u001b[0m\u001b[0mpreco\u001b[0m\u001b[1;33m]\u001b[0m\u001b[1;33m)\u001b[0m\u001b[1;33m\u001b[0m\u001b[0m\n\u001b[0;32m      9\u001b[0m     \u001b[0mtotal\u001b[0m \u001b[1;33m+=\u001b[0m \u001b[0mpreco\u001b[0m\u001b[1;33m\u001b[0m\u001b[0m\n",
      "\u001b[1;31mValueError\u001b[0m: could not convert string to float: '10,00'"
     ]
    }
   ],
   "source": [
    "repetir = 's'\n",
    "fatura = []\n",
    "total = 0\n",
    "\n",
    "while repetir == 's':\n",
    "    produto = input('Digite o nome do produto: ')\n",
    "    preco = float(input('Digite o preço do produto: '))\n",
    "    fatura.append([produto,preco])\n",
    "    total += preco\n",
    "    repetir = input('Deseja comprar mais algum produto? (S ou N) ').lower()\n",
    "\n",
    "for i in fatura:\n",
    "    print(i[0],'-',i[1])\n",
    "\n",
    "print('O total da fatura é:',total)"
   ]
  },
  {
   "cell_type": "markdown",
   "metadata": {},
   "source": [
    "O erro ocorre pois o formato de numeros decimais (float) no Python são separados por virgula. Eu poderia simplesmente digitar um texto e o erro seria o mesmo. Imagina se digitamos 30 produtos e ele dá erro no ultimo, se o cara que pediu não ia ficar puto. Sendo assim vamos começar a validação de dados, dando um talento na variável preço."
   ]
  },
  {
   "cell_type": "code",
   "execution_count": 3,
   "metadata": {
    "collapsed": false
   },
   "outputs": [
    {
     "name": "stdout",
     "output_type": "stream",
     "text": [
      "Digite o nome do produto: caneta\n",
      "Digite o preço do produto: 10\n",
      "Deseja comprar mais algum produto? (S ou N) s\n",
      "Digite o nome do produto: caderno\n",
      "Digite o preço do produto: 20\n",
      "Deseja comprar mais algum produto? (S ou N) s\n",
      "Digite o nome do produto: guardanapo\n",
      "Digite o preço do produto: 23,00\n"
     ]
    },
    {
     "ename": "ValueError",
     "evalue": "could not convert string to float: '23,00'",
     "output_type": "error",
     "traceback": [
      "\u001b[1;31m\u001b[0m",
      "\u001b[1;31mValueError\u001b[0mTraceback (most recent call last)",
      "\u001b[1;32m<ipython-input-3-1bb6584d5e86>\u001b[0m in \u001b[0;36m<module>\u001b[1;34m()\u001b[0m\n\u001b[0;32m     11\u001b[0m \u001b[1;33m\u001b[0m\u001b[0m\n\u001b[0;32m     12\u001b[0m     \u001b[1;32mwhile\u001b[0m \u001b[0mvalid_preco\u001b[0m \u001b[1;33m==\u001b[0m \u001b[1;32mFalse\u001b[0m\u001b[1;33m:\u001b[0m\u001b[1;33m\u001b[0m\u001b[0m\n\u001b[1;32m---> 13\u001b[1;33m         \u001b[0mpreco\u001b[0m \u001b[1;33m=\u001b[0m \u001b[0mfloat\u001b[0m\u001b[1;33m(\u001b[0m\u001b[0minput\u001b[0m\u001b[1;33m(\u001b[0m\u001b[1;34m'Digite o preço do produto: '\u001b[0m\u001b[1;33m)\u001b[0m\u001b[1;33m)\u001b[0m\u001b[1;33m\u001b[0m\u001b[0m\n\u001b[0m\u001b[0;32m     14\u001b[0m         \u001b[1;32mtry\u001b[0m\u001b[1;33m:\u001b[0m\u001b[1;33m\u001b[0m\u001b[0m\n\u001b[0;32m     15\u001b[0m             \u001b[0mpreco\u001b[0m \u001b[1;33m=\u001b[0m \u001b[0mfloat\u001b[0m\u001b[1;33m(\u001b[0m\u001b[0mpreco\u001b[0m\u001b[1;33m)\u001b[0m\u001b[1;33m\u001b[0m\u001b[0m\n",
      "\u001b[1;31mValueError\u001b[0m: could not convert string to float: '23,00'"
     ]
    }
   ],
   "source": [
    "repetir = 's'\n",
    "fatura = []\n",
    "total = 0\n",
    "valid_preco = False ## Variavel adicionada para arrumar o problema do preço\n",
    "\n",
    "while repetir == 's':\n",
    "    produto = input('Digite o nome do produto: ')\n",
    "\n",
    "## ESTOU PEGANDO ESSA PARTE DO MEU CODIGO E FAZENDO UMA VALIDAÇÃO DE ELE NÃO SER TEXTO E DANDO UMA INFORMAÇÃO\n",
    "## PEDINDO PARA QUE O CONTEUDO DO VALOR SEJA COLOCADO COM VALOR:\n",
    "    \n",
    "    while valid_preco == False:\n",
    "        preco = float(input('Digite o preço do produto: '))\n",
    "        try:\n",
    "            preco = float(preco)\n",
    "            valid_preco = True\n",
    "        except:\n",
    "            print(\"Formato de preço inválido, use apenas numero e separe os centavos com '.'\")\n",
    "    \n",
    "    fatura.append([produto,preco])\n",
    "    total += preco\n",
    "    valid_preco = False  ## Variavel alterada para false para que ele não repita o preço no proximo produto\n",
    "    repetir = input('Deseja comprar mais algum produto? (S ou N) ').lower()\n",
    "\n",
    "for i in fatura:\n",
    "    print(i[0],'-',i[1])\n",
    "\n",
    "print('O total da fatura é:',total)"
   ]
  },
  {
   "cell_type": "code",
   "execution_count": null,
   "metadata": {
    "collapsed": true
   },
   "outputs": [],
   "source": []
  }
 ],
 "metadata": {
  "anaconda-cloud": {},
  "kernelspec": {
   "display_name": "Python 3",
   "language": "python",
   "name": "python3"
  },
  "language_info": {
   "codemirror_mode": {
    "name": "ipython",
    "version": 3
   },
   "file_extension": ".py",
   "mimetype": "text/x-python",
   "name": "python",
   "nbconvert_exporter": "python",
   "pygments_lexer": "ipython3",
   "version": "3.5.2"
  }
 },
 "nbformat": 4,
 "nbformat_minor": 0
}
