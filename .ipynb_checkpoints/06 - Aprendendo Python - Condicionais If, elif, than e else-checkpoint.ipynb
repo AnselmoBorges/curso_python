{
 "cells": [
  {
   "cell_type": "markdown",
   "metadata": {},
   "source": [
    "#  Aprendendo Python - Condicionais (If, elif, than e else):\n",
    "Nesse capitulo vamos ver como usamos os condicionais, pois até o momento nossos programas foram sequenciais, adicionando condicionais adicionamos inteligencia nos programas para que eles possam agir por nós, vamos ver alguns exemplos abaixo começando pelo if.\n",
    "\n",
    "## IF"
   ]
  },
  {
   "cell_type": "code",
   "execution_count": 4,
   "metadata": {
    "collapsed": false
   },
   "outputs": [
    {
     "name": "stdout",
     "output_type": "stream",
     "text": [
      "Idade maior que 18 anos\n"
     ]
    }
   ],
   "source": [
    "idade = 19\n",
    "if idade > 18:\n",
    "    print('Idade maior que 18 anos')"
   ]
  },
  {
   "cell_type": "code",
   "execution_count": 5,
   "metadata": {
    "collapsed": true
   },
   "outputs": [],
   "source": [
    "idade = 17\n",
    "if idade > 18:\n",
    "    print('Idade maior que 18 anos')"
   ]
  },
  {
   "cell_type": "markdown",
   "metadata": {},
   "source": [
    "Note que no primeiro exemplo, foi exibida a mensagem de \"Idade maior que 18 anos\", quando no segundo exemplo não foi exibido nada. Isso ocorre porque o if é um condicional de verdadeiro ou falso, (True/False), sendo assim ele valida se a condição que coloquei é verdadeira e exibe o resultado pedido, no caso de falso não exibe, a não ser q eu use else, veja o exemplo:"
   ]
  },
  {
   "cell_type": "code",
   "execution_count": 6,
   "metadata": {
    "collapsed": false
   },
   "outputs": [
    {
     "name": "stdout",
     "output_type": "stream",
     "text": [
      "verdade\n"
     ]
    }
   ],
   "source": [
    "## Somente verdade\n",
    "if True:\n",
    "    print('verdade')"
   ]
  },
  {
   "cell_type": "markdown",
   "metadata": {},
   "source": [
    "Outra informação importante é que tudo o que está identado com o print no caso, vai ser exibido se for verdadeiro, ou seja, podemos colocar varias ações caso a validação seja verdadeira."
   ]
  },
  {
   "cell_type": "code",
   "execution_count": 8,
   "metadata": {
    "collapsed": false
   },
   "outputs": [
    {
     "name": "stdout",
     "output_type": "stream",
     "text": [
      "verdade\n",
      "pode crê\n",
      "só\n"
     ]
    }
   ],
   "source": [
    "# Varias ações por validação:\n",
    "if True:\n",
    "    print('verdade')\n",
    "    print('pode crê')\n",
    "    print('só')"
   ]
  },
  {
   "cell_type": "markdown",
   "metadata": {},
   "source": [
    "## Else:\n",
    "O Else define o que fazer caso a validação não seja verdadeira, traduzindo ao pé da letra seria \"então faça\". Levando com consideração o segundo caso desse notebook, o comando quando não validou como verdadeiro os ser maior de 18 anos ele não exibiu nada, nesse caso podemos realizar isso de 2 formas:"
   ]
  },
  {
   "cell_type": "code",
   "execution_count": 9,
   "metadata": {
    "collapsed": false
   },
   "outputs": [
    {
     "name": "stdout",
     "output_type": "stream",
     "text": [
      "Menor de idade\n"
     ]
    }
   ],
   "source": [
    "## Nesse caso nem usamos o else, pois caso não seja maior que 18 ele exibe menor de idade:\n",
    "idade = 17\n",
    "if idade > 18:\n",
    "    print('Idade maior que 18 anos')\n",
    "print('Menor de idade')"
   ]
  },
  {
   "cell_type": "code",
   "execution_count": 10,
   "metadata": {
    "collapsed": false
   },
   "outputs": [
    {
     "name": "stdout",
     "output_type": "stream",
     "text": [
      "Menor de idade\n"
     ]
    }
   ],
   "source": [
    "## Nesse segundo caso estou forçando usando else, se o resultado não for verdadeiro exibir a mensagem:\n",
    "idade = 17\n",
    "if idade > 18:\n",
    "    print('Idade maior que 18 anos')\n",
    "else:\n",
    "    print('Menor de idade')"
   ]
  },
  {
   "cell_type": "markdown",
   "metadata": {},
   "source": [
    "## Elif:\n",
    "Caso eu queira colocar mais de uma condição na validação faço uso da clausula elif que é trazindo ao pé da letra seria um \"senão faça\". Vamos criar mais um programa usando alguns elif's:"
   ]
  },
  {
   "cell_type": "code",
   "execution_count": 12,
   "metadata": {
    "collapsed": false
   },
   "outputs": [
    {
     "name": "stdout",
     "output_type": "stream",
     "text": [
      "Insira o sexo, M ou F: F\n",
      "Insira a idade: 13\n",
      "Mulher menor de idade\n"
     ]
    }
   ],
   "source": [
    "## Vamos criar um programa que dependendo das entradas fala se é\n",
    "# - Mulher maior ou menor de idade\n",
    "# - Homem maior ou menor de idade\n",
    "\n",
    "sexo = input('Insira o sexo, M ou F: ')\n",
    "idade = int(input('Insira a idade: '))\n",
    "\n",
    "if sexo == 'M':\n",
    "    if idade >= 18:\n",
    "        print('Homem maior de idade')\n",
    "    else:\n",
    "        print('Homem menor de idade')\n",
    "elif sexo == 'F':\n",
    "    if idade >= 18:\n",
    "        print('Mulher maior de idade')\n",
    "    else:\n",
    "        print('Mulher menor de idade')\n",
    "else:\n",
    "    print('Insira os dados corretamente')"
   ]
  },
  {
   "cell_type": "markdown",
   "metadata": {},
   "source": [
    "## Condicionais de comparação:\n",
    "Existem alguns comparativos no Python como == (igual), != (diferente)"
   ]
  },
  {
   "cell_type": "markdown",
   "metadata": {
    "collapsed": true
   },
   "source": [
    "```\n",
    "Comparativos:\n",
    "\n",
    "< ____ menor que\n",
    "> ____ maior que\n",
    "<= ____ menor ou igual a\n",
    ">= ____ maior ou igual a\n",
    "== ____ Igual a\n",
    "!= ____ diferente de\n",
    "<< ____ deslocamento para esquerda\n",
    ">> ____ deslocamento para direita\n",
    "\n",
    "& ____ e bit-a-bit\n",
    "| ____ ou bit-a-bit\n",
    "^ ____ ou exclusivo bit-a-bit\n",
    "~ ____ inversão\n",
    "```"
   ]
  },
  {
   "cell_type": "markdown",
   "metadata": {},
   "source": [
    "## Exercicio:\n",
    "Peça as seguinte informações:\n",
    "    - Nome\n",
    "    - Nota P1\n",
    "    - Nota P2\n",
    "    - Faltas\n",
    "\n",
    "Considere que foram dadas 20 aulas e o aluno precisa ter assistido pelo menos 70% delas e ter média 6,0 ou mais. No final deve ser aprensentado:\n",
    "    - Nome do aluno\n",
    "    - Media\n",
    "    - Percentual de presença \n",
    "    - Resultado (Se foi reprovado por faltas e por media, reprovado por faltas, reprovado por media ou aprovado)"
   ]
  },
  {
   "cell_type": "code",
   "execution_count": 14,
   "metadata": {
    "collapsed": false
   },
   "outputs": [
    {
     "name": "stdout",
     "output_type": "stream",
     "text": [
      "Digite o nome do aluno: Anselmo\n",
      "Digite a nota da Prova 1: 6.2\n",
      "Digite a nota da Prova 2: 8.1\n",
      "Digite o total de faltas: 3\n",
      "Aprovado\n"
     ]
    }
   ],
   "source": [
    "nome = input('Digite o nome do aluno: ')\n",
    "\n",
    "nota1 = float(input('Digite a nota da Prova 1: '))\n",
    "nota2 = float(input('Digite a nota da Prova 2: '))\n",
    "faltas = int(input('Digite o total de faltas: '))\n",
    "\n",
    "media = (nota1+nota2)/2\n",
    "assid = (20-faltas)/20\n",
    "\n",
    "if media >= 6 and assid >= 0.7:\n",
    "    resultado = 'Aprovado'\n",
    "    print(resultado)\n",
    "\n",
    "elif media < 6 and assid < 0.7:\n",
    "    resultado = 'Reprovado por média e por faltas'\n",
    "    print(resultado)\n",
    "elif media < 6:\n",
    "    resultado = 'Reprovado por média'\n",
    "    print(resultado)\n",
    "elif assid < 0.7:\n",
    "    resultado = 'Reprovado por faltas'\n",
    "    print(resultado)\n",
    "else:\n",
    "    print('Erro')"
   ]
  }
 ],
 "metadata": {
  "anaconda-cloud": {},
  "kernelspec": {
   "display_name": "Python 3",
   "language": "python",
   "name": "python3"
  },
  "language_info": {
   "codemirror_mode": {
    "name": "ipython",
    "version": 3
   },
   "file_extension": ".py",
   "mimetype": "text/x-python",
   "name": "python",
   "nbconvert_exporter": "python",
   "pygments_lexer": "ipython3",
   "version": "3.5.2"
  }
 },
 "nbformat": 4,
 "nbformat_minor": 0
}
