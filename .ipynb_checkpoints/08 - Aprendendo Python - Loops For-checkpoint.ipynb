{
 "cells": [
  {
   "cell_type": "markdown",
   "metadata": {},
   "source": [
    "# 08 - Aprendendo Python - Loops For\n",
    "Continuando a parte de loops com o loop chamado for, ele também server pra repetição mas ele vai fazer uso de sequencias como vimos nos notebooks anteriores, você vai perceber a diferença:\n",
    "\n",
    "## Usando listas:"
   ]
  },
  {
   "cell_type": "code",
   "execution_count": 1,
   "metadata": {
    "collapsed": false
   },
   "outputs": [
    {
     "name": "stdout",
     "output_type": "stream",
     "text": [
      "arroz\n",
      "feijao\n",
      "macarrao\n",
      "carne\n"
     ]
    }
   ],
   "source": [
    "compras = ['arroz','feijao','macarrao','carne']\n",
    "for i in compras:\n",
    "    print(i)"
   ]
  },
  {
   "cell_type": "markdown",
   "metadata": {},
   "source": [
    "Acho que fica bem visível a diferença, ele pega o conteúdo da lista, de acordo com o indice de cada uma. Usando uma variavel que chamo de fake (o i) ele vai criando um loop entre as ocorrencias da lista e exibindo na tela. Nesse exemplo usamos uma lista, mas vamos usar um string exibindo cada um dos caracteres:\n",
    "\n",
    "## Usando strings:"
   ]
  },
  {
   "cell_type": "code",
   "execution_count": 2,
   "metadata": {
    "collapsed": false
   },
   "outputs": [
    {
     "name": "stdout",
     "output_type": "stream",
     "text": [
      "A\n",
      "n\n",
      "s\n",
      "e\n",
      "l\n",
      "m\n",
      "o\n"
     ]
    }
   ],
   "source": [
    "nome = 'Anselmo'\n",
    "for i in nome:\n",
    "    print(i)"
   ]
  },
  {
   "cell_type": "markdown",
   "metadata": {},
   "source": [
    "## Usando valores numéricos:\n",
    "Vamos simular uma soma do número de vendas a partir de uma lista:"
   ]
  },
  {
   "cell_type": "code",
   "execution_count": 5,
   "metadata": {
    "collapsed": false
   },
   "outputs": [
    {
     "name": "stdout",
     "output_type": "stream",
     "text": [
      "3350\n"
     ]
    }
   ],
   "source": [
    "vendas = [1000,250,300,1200,600]\n",
    "total = 0\n",
    "for i in vendas:\n",
    "    total += i\n",
    "print(total)"
   ]
  },
  {
   "cell_type": "markdown",
   "metadata": {},
   "source": [
    "Nesse exemplo criei 2 varáveis a vendas com uma lista de todos os valores de vendas realizados e a total que inicia zerada. O for realiza a soma durante o loop do primeiro valor mais o valor atual e assim até o fim da lista, no final imprime o resultado da variável total."
   ]
  },
  {
   "cell_type": "markdown",
   "metadata": {},
   "source": [
    "## Usando com dicionários:\n",
    "Assim como no notebook de dicionários, vamos fazer um teste de for usando dicionário:"
   ]
  },
  {
   "cell_type": "code",
   "execution_count": 10,
   "metadata": {
    "collapsed": false
   },
   "outputs": [
    {
     "name": "stdout",
     "output_type": "stream",
     "text": [
      "{'azul': 'blue', 'verde': 'green', 'preto': 'black'}\n",
      "blue\n",
      "azul : blue\n",
      "{'azul': 'blue', 'verde': 'green', 'preto': 'black'}\n",
      "green\n",
      "verde : green\n",
      "{'azul': 'blue', 'verde': 'green', 'preto': 'black'}\n",
      "black\n",
      "preto : black\n"
     ]
    }
   ],
   "source": [
    "cores = {'verde': 'green','preto': 'black','azul': 'blue'}\n",
    "for i in cores:\n",
    "    print(cores)\n",
    "    print(cores[i])\n",
    "    print(i,':',cores[i])"
   ]
  },
  {
   "cell_type": "markdown",
   "metadata": {},
   "source": [
    "Eu procurei colocar nesse exemplo 3 variações de exibição:\n",
    "* Exibir a lista\n",
    "* Exibir o valor\n",
    "* Exibir a chave e o valor\n",
    "\n",
    "Cada um na ordem de execução do for apenas para fins didáticos. No proximo exemplo vamos usar listas dentro de listas e testar a exibição das listas e dos valores usando um for dentro de outro for."
   ]
  },
  {
   "cell_type": "code",
   "execution_count": 12,
   "metadata": {
    "collapsed": false
   },
   "outputs": [
    {
     "name": "stdout",
     "output_type": "stream",
     "text": [
      "['Anselmo', 'Maria']\n",
      "['Adriana', 'Douglas']\n",
      "['Andreia', 'Higor']\n",
      "['Junior']\n"
     ]
    }
   ],
   "source": [
    "# Exibindo as listas em cada execução do for:\n",
    "nomes = [['Anselmo','Maria'],['Adriana','Douglas'],['Andreia','Higor'],['Junior']]\n",
    "\n",
    "for i in nomes:\n",
    "    print(i)"
   ]
  },
  {
   "cell_type": "code",
   "execution_count": 13,
   "metadata": {
    "collapsed": false
   },
   "outputs": [
    {
     "name": "stdout",
     "output_type": "stream",
     "text": [
      "Anselmo\n",
      "Maria\n",
      "Adriana\n",
      "Douglas\n",
      "Andreia\n",
      "Higor\n",
      "Junior\n"
     ]
    }
   ],
   "source": [
    "# Caso eu queira exibir todos os valores das listas:\n",
    "nomes = [['Anselmo','Maria'],['Adriana','Douglas'],['Andreia','Higor'],['Junior']]\n",
    "\n",
    "for i in nomes:\n",
    "    for cada in i:\n",
    "        print(cada)"
   ]
  },
  {
   "cell_type": "markdown",
   "metadata": {},
   "source": [
    "## Usando um contador no for com RANGE:\n",
    "Podemos criar um contador no for também, relativamente mais fácil que o While:"
   ]
  },
  {
   "cell_type": "code",
   "execution_count": 14,
   "metadata": {
    "collapsed": false
   },
   "outputs": [
    {
     "name": "stdout",
     "output_type": "stream",
     "text": [
      "0\n",
      "1\n",
      "2\n",
      "3\n",
      "4\n",
      "5\n",
      "6\n",
      "7\n",
      "8\n",
      "9\n"
     ]
    }
   ],
   "source": [
    "for i in range (0,10):\n",
    "    print(i)"
   ]
  },
  {
   "cell_type": "markdown",
   "metadata": {},
   "source": [
    "Ele usa o mesmo conceito do indice, começando de 0 a 10, caso você queira de 0 a 10 realmente você deve colocar o fim do range com 11. podemos fazer tambem uma contagem regressiva:"
   ]
  },
  {
   "cell_type": "code",
   "execution_count": 15,
   "metadata": {
    "collapsed": false
   },
   "outputs": [
    {
     "name": "stdout",
     "output_type": "stream",
     "text": [
      "10\n",
      "9\n",
      "8\n",
      "7\n",
      "6\n",
      "5\n",
      "4\n",
      "3\n",
      "2\n",
      "1\n"
     ]
    }
   ],
   "source": [
    "for i in range (0,10):\n",
    "    print(10-i)"
   ]
  },
  {
   "cell_type": "markdown",
   "metadata": {},
   "source": [
    "## Exercicio com loops:\n",
    "Faça um programa para registrar uma venda. O programa vai receber do usuário, o nome do produto e o preço e vai adicioná-lo a uma fatura. Em seguida, pergunte ao usuário se ele quer comprar mais algum produto.\n",
    "\n",
    "Se a resposta for 's', repita a operação. Só pare quando a resposta for 'n' e então imprima a fatura, que deve conter os produtos comprados com os preços, ao final deve ser exibido o total da fatura.\n",
    "\n",
    "Para facilitar, considere que podemos comprar apenas uma unidade de cada produto de uma vez:"
   ]
  },
  {
   "cell_type": "code",
   "execution_count": 17,
   "metadata": {
    "collapsed": false
   },
   "outputs": [
    {
     "name": "stdout",
     "output_type": "stream",
     "text": [
      "Digite o nome do produto: Boné\n",
      "Digite o preço do produto: 10.00\n",
      "Deseja comprar mais algum produto? (S ou N) s\n",
      "Digite o nome do produto: Camiseta\n",
      "Digite o preço do produto: 20.00\n",
      "Deseja comprar mais algum produto? (S ou N) n\n",
      "Boné - 10.0\n",
      "Camiseta - 20.0\n",
      "O total da fatura é: 30.0\n"
     ]
    }
   ],
   "source": [
    "repetir = 's'\n",
    "fatura = []\n",
    "total = 0\n",
    "\n",
    "while repetir == 's':\n",
    "    produto = input('Digite o nome do produto: ')\n",
    "    preco = float(input('Digite o preço do produto: '))\n",
    "    fatura.append([produto,preco])\n",
    "    total += preco\n",
    "    repetir = input('Deseja comprar mais algum produto? (S ou N) ').lower()\n",
    "\n",
    "for i in fatura:\n",
    "    print(i[0],'-',i[1])\n",
    "\n",
    "print('O total da fatura é:',total)"
   ]
  }
 ],
 "metadata": {
  "anaconda-cloud": {},
  "kernelspec": {
   "display_name": "Python 3",
   "language": "python",
   "name": "python3"
  },
  "language_info": {
   "codemirror_mode": {
    "name": "ipython",
    "version": 3
   },
   "file_extension": ".py",
   "mimetype": "text/x-python",
   "name": "python",
   "nbconvert_exporter": "python",
   "pygments_lexer": "ipython3",
   "version": "3.5.2"
  }
 },
 "nbformat": 4,
 "nbformat_minor": 0
}
