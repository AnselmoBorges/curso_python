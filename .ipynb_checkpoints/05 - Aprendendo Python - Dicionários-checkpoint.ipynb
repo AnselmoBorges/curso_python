{
 "cells": [
  {
   "cell_type": "markdown",
   "metadata": {},
   "source": [
    "# Aprendendo Python - Dicionários\n",
    "Vamos trabalhar com dicionários que são muito parecidos com listas e tuplas e consigo pegar os dados desse dicionário, a diferença é que esse tipo de dado é muito parecido com um YML ou um JSON, que são chave/valor e podem ter sub-itens e listas do mes\n",
    "mo, vamos ver alguns exemplos abaixo. Um ponto importante do dicionário é que criamos eles com chaves \"{}\"\n",
    "\n",
    "Vamos criar um pequeno dicionário e coletar os dados dele:"
   ]
  },
  {
   "cell_type": "code",
   "execution_count": 2,
   "metadata": {
    "collapsed": false
   },
   "outputs": [
    {
     "data": {
      "text/plain": [
       "{'nome': 'Anselmo',\n",
       " 'profissao': 'Pedreiro',\n",
       " 'idade': 38,\n",
       " 'conhece': ['pintura', 'azulejo', 'encanamento']}"
      ]
     },
     "execution_count": 2,
     "metadata": {},
     "output_type": "execute_result"
    }
   ],
   "source": [
    "func01 = {'nome': 'Anselmo', 'profissao': 'Pedreiro', 'idade': 38, 'conhece': ['pintura','azulejo','encanamento']}\n",
    "func02 = {'nome': 'Adriana', 'profissao': 'Engenheira', 'idade': 35, 'conhece': ['mecanica','desenho','pneumatica']}\n",
    "func03 = {'nome': 'Andreia', 'profissao': 'Vendedora', 'idade': 32, 'conhece': ['mercado','apresentações','atendimento']}\n",
    "func01"
   ]
  },
  {
   "cell_type": "markdown",
   "metadata": {},
   "source": [
    "Criamos 3 variaveis, cada uma com dados de funcionarios, agora vamos extrair funções distintas de cada um deles:"
   ]
  },
  {
   "cell_type": "code",
   "execution_count": 3,
   "metadata": {
    "collapsed": false
   },
   "outputs": [
    {
     "data": {
      "text/plain": [
       "'Anselmo'"
      ]
     },
     "execution_count": 3,
     "metadata": {},
     "output_type": "execute_result"
    }
   ],
   "source": [
    "# Extraindo o nome do funcionario 1\n",
    "func01['nome']"
   ]
  },
  {
   "cell_type": "code",
   "execution_count": 4,
   "metadata": {
    "collapsed": false
   },
   "outputs": [
    {
     "data": {
      "text/plain": [
       "['mercado', 'apresentações', 'atendimento']"
      ]
     },
     "execution_count": 4,
     "metadata": {},
     "output_type": "execute_result"
    }
   ],
   "source": [
    "# Extraindo a lista de conhecimentos do funcionario 3\n",
    "func03['conhece']"
   ]
  },
  {
   "cell_type": "code",
   "execution_count": 6,
   "metadata": {
    "collapsed": false
   },
   "outputs": [
    {
     "data": {
      "text/plain": [
       "{'nome': 'Adriana', 'profissao': 'Engenheira', 'idade': 35}"
      ]
     },
     "execution_count": 6,
     "metadata": {},
     "output_type": "execute_result"
    }
   ],
   "source": [
    "# Removendo os conhecimentos do funcionario 2\n",
    "del func02['conhece']\n",
    "func02"
   ]
  },
  {
   "cell_type": "code",
   "execution_count": 7,
   "metadata": {
    "collapsed": false
   },
   "outputs": [
    {
     "data": {
      "text/plain": [
       "{'nome': 'Anselmo',\n",
       " 'profissao': 'Traficante',\n",
       " 'idade': 38,\n",
       " 'conhece': ['pintura', 'azulejo', 'encanamento']}"
      ]
     },
     "execution_count": 7,
     "metadata": {},
     "output_type": "execute_result"
    }
   ],
   "source": [
    "# Alterando a profissão do funcionario 1\n",
    "func01['profissao'] = 'Traficante'\n",
    "func01"
   ]
  },
  {
   "cell_type": "code",
   "execution_count": 10,
   "metadata": {
    "collapsed": false
   },
   "outputs": [
    {
     "data": {
      "text/plain": [
       "{'nome': 'Anselmo',\n",
       " 'profissao': 'Traficante',\n",
       " 'idade': 38,\n",
       " 'conhece': ['pintura',\n",
       "  'azulejo',\n",
       "  'encanamento',\n",
       "  'correr',\n",
       "  'correr de policia']}"
      ]
     },
     "execution_count": 10,
     "metadata": {},
     "output_type": "execute_result"
    }
   ],
   "source": [
    "# Adicionando mais um conhecimento no funcionário 01\n",
    "func01['conhece'].append('correr de policia')\n",
    "func01"
   ]
  },
  {
   "cell_type": "code",
   "execution_count": 11,
   "metadata": {
    "collapsed": false
   },
   "outputs": [
    {
     "name": "stdout",
     "output_type": "stream",
     "text": [
      "nome\n",
      "profissao\n",
      "idade\n",
      "conhece\n"
     ]
    }
   ],
   "source": [
    "# Fazendo um loop basico com todas as chaves\n",
    "for x in func01:\n",
    "    print(x)"
   ]
  },
  {
   "cell_type": "code",
   "execution_count": 18,
   "metadata": {
    "collapsed": false
   },
   "outputs": [
    {
     "name": "stdout",
     "output_type": "stream",
     "text": [
      "nome,Adriana\n",
      "profissao,Engenheira\n",
      "idade,35\n"
     ]
    }
   ],
   "source": [
    "# Fazendo um arquivo separado por virgula do funcionario 2 com chave e valor (TRANSFORMEI IDADE EM STRING PQ DÁ ERRO):\n",
    "for x in func02:\n",
    "    print(x +',' + str(func02[x]))"
   ]
  },
  {
   "cell_type": "code",
   "execution_count": 19,
   "metadata": {
    "collapsed": false
   },
   "outputs": [
    {
     "data": {
      "text/plain": [
       "'Anselmo'"
      ]
     },
     "execution_count": 19,
     "metadata": {},
     "output_type": "execute_result"
    }
   ],
   "source": [
    "# Pegando o conteudo de um campo com o metodo get e exibindo uma mensagem caso não possua a informação\n",
    "func01.get('nome','Não possui informação')"
   ]
  },
  {
   "cell_type": "code",
   "execution_count": 20,
   "metadata": {
    "collapsed": false
   },
   "outputs": [
    {
     "data": {
      "text/plain": [
       "'Não possui informação'"
      ]
     },
     "execution_count": 20,
     "metadata": {},
     "output_type": "execute_result"
    }
   ],
   "source": [
    "# Tentando o mesmo com uma chave inesistente:\n",
    "func01.get('salario','Não possui informação')"
   ]
  },
  {
   "cell_type": "code",
   "execution_count": 21,
   "metadata": {
    "collapsed": false
   },
   "outputs": [
    {
     "data": {
      "text/plain": [
       "{}"
      ]
     },
     "execution_count": 21,
     "metadata": {},
     "output_type": "execute_result"
    }
   ],
   "source": [
    "# Limpando todos os registros de um funcionario\n",
    "func03.clear()\n",
    "func03"
   ]
  },
  {
   "cell_type": "markdown",
   "metadata": {},
   "source": [
    "# Exercicio\n",
    "Crie um dicionário de cores em chave valor (ingles e portugues), Peça para o usuário digitar uma cor em ingles, caso ela exista, mostre em portugues, caso não, exiba a mensagem, \"essa cor não consta no dicionário\"\n"
   ]
  },
  {
   "cell_type": "code",
   "execution_count": 2,
   "metadata": {
    "collapsed": false
   },
   "outputs": [
    {
     "name": "stdout",
     "output_type": "stream",
     "text": [
      "Digite uma cor em ingles: white\n",
      "essa cor não consta no dicionario\n"
     ]
    }
   ],
   "source": [
    "cores = { 'black':'preto','yellow':'amarelo','green':'verde','blue':'azul'}\n",
    "cor = input('Digite uma cor em ingles: ')\n",
    "print(cores.get(cor,'essa cor não consta no dicionario'))"
   ]
  }
 ],
 "metadata": {
  "anaconda-cloud": {},
  "kernelspec": {
   "display_name": "Python 3",
   "language": "python",
   "name": "python3"
  },
  "language_info": {
   "codemirror_mode": {
    "name": "ipython",
    "version": 3
   },
   "file_extension": ".py",
   "mimetype": "text/x-python",
   "name": "python",
   "nbconvert_exporter": "python",
   "pygments_lexer": "ipython3",
   "version": "3.5.2"
  }
 },
 "nbformat": 4,
 "nbformat_minor": 2
}
