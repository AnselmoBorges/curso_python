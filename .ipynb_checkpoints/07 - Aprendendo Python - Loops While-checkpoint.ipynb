{
 "cells": [
  {
   "cell_type": "markdown",
   "metadata": {},
   "source": [
    "# 07 - Aprendendo Python - While - Enquanto\n",
    "Vamos começar a ver como usar loops, que são estruturas de repetição, nesse primeiro notebook vamos usar o while que traduzindo ao pé da letra é enquanto, quando usarmos ele será basicamente, \"enquanto o resultado foi x\" ai uso varios outros programas possiveis. Segue um exemplo de While:"
   ]
  },
  {
   "cell_type": "code",
   "execution_count": null,
   "metadata": {
    "collapsed": false
   },
   "outputs": [
    {
     "name": "stdout",
     "output_type": "stream",
     "text": [
      "Qual seu nome?Anselmo\n",
      "Qual seu nome?Teste\n",
      "Qual seu nome?lalal\n"
     ]
    }
   ],
   "source": [
    "x = 0\n",
    "while x < 1:\n",
    "    nome = input('Qual seu nome? ')"
   ]
  },
  {
   "cell_type": "markdown",
   "metadata": {},
   "source": [
    "Note que eu nunca vou sair desse loop, ele sempre vai me pedir o nome, porque ele sempre vai pedir o nome \"enquanto x foi < que 1\" e como não alterei o x para qualquer valor maior ou igual a 1 ele não vai parar. Nesse segundo exemplo vou limitar a 4 pedidos de nome adicionando um contador a cada execução."
   ]
  },
  {
   "cell_type": "code",
   "execution_count": 1,
   "metadata": {
    "collapsed": false
   },
   "outputs": [
    {
     "name": "stdout",
     "output_type": "stream",
     "text": [
      "Qual seu nome? Anselmo\n",
      "Qual seu nome? Borges\n",
      "Qual seu nome? de\n",
      "Qual seu nome? Moraes\n"
     ]
    }
   ],
   "source": [
    "x = 0\n",
    "while x < 4:\n",
    "    nome = input('Qual seu nome? ')\n",
    "    x = x + 1"
   ]
  },
  {
   "cell_type": "markdown",
   "metadata": {},
   "source": [
    "Veja que ele rodou apenas 4 vezes e parou, pedindo a entrada do nome, isso ocorreu que a cada execução o contador somou mais 1 e chegando em 4 ele para. Simples assim. Eu tambem poderia usar a sintaxe abaixo que tambem funciona."
   ]
  },
  {
   "cell_type": "code",
   "execution_count": 2,
   "metadata": {
    "collapsed": false
   },
   "outputs": [
    {
     "name": "stdout",
     "output_type": "stream",
     "text": [
      "Qual seu nome? Anselmo\n",
      "Qual seu nome? Borges\n",
      "Qual seu nome? de\n",
      "Qual seu nome? Moraes\n"
     ]
    }
   ],
   "source": [
    "x = 0\n",
    "while x < 4:\n",
    "    nome = input('Qual seu nome? ')\n",
    "    x += 1"
   ]
  },
  {
   "cell_type": "markdown",
   "metadata": {},
   "source": [
    "O significado é exatamente o mesmo, ele soma 1 no valor da variavel criada. Vou agora criar uma lista de nome pessoas e vou adicionar as pessoas a essa lista."
   ]
  },
  {
   "cell_type": "code",
   "execution_count": 3,
   "metadata": {
    "collapsed": false
   },
   "outputs": [
    {
     "name": "stdout",
     "output_type": "stream",
     "text": [
      "Qual seu nome? Anselmo\n",
      "Qual seu nome? Adriana\n",
      "Qual seu nome? Andreia\n",
      "Qual seu nome? Maria\n",
      "['Anselmo', 'Adriana', 'Andreia', 'Maria']\n"
     ]
    }
   ],
   "source": [
    "x = 0\n",
    "pessoas = []\n",
    "while x < 4:\n",
    "    nome = input('Qual seu nome? ')\n",
    "    pessoas.append(nome)\n",
    "    x += 1\n",
    "print(pessoas)"
   ]
  },
  {
   "cell_type": "markdown",
   "metadata": {},
   "source": [
    "Com isso eu estou criando basicamente uma lista com base nas informações que estão entrando, com o limite de 4 pois o x < menor que 4, mas eu poderia fazer usando que enquanto o nome não for 'João' ele executa, se liga:"
   ]
  },
  {
   "cell_type": "code",
   "execution_count": 4,
   "metadata": {
    "collapsed": false
   },
   "outputs": [
    {
     "name": "stdout",
     "output_type": "stream",
     "text": [
      "Qual seu nome? Anselmo\n",
      "Qual seu nome? Adriana\n",
      "Qual seu nome? Andreia\n",
      "Qual seu nome? Junior\n",
      "Qual seu nome? Maria\n",
      "Qual seu nome? João\n",
      "['Anselmo', 'Adriana', 'Andreia', 'Junior', 'Maria', 'João']\n"
     ]
    }
   ],
   "source": [
    "pessoas = []\n",
    "while 'João' not in pessoas:\n",
    "    nome = input('Qual seu nome? ')\n",
    "    pessoas.append(nome)\n",
    "print(pessoas)"
   ]
  },
  {
   "cell_type": "markdown",
   "metadata": {},
   "source": [
    "Ele encerra a execução do while em João porem o adiciona a lista, sem a necessidade de um contador, isso é muito util quando que vou trabalhar com campos string. Eu poderia encerrar o loop com a palavra sair:"
   ]
  },
  {
   "cell_type": "code",
   "execution_count": 1,
   "metadata": {
    "collapsed": false
   },
   "outputs": [
    {
     "name": "stdout",
     "output_type": "stream",
     "text": [
      "Qual seu nome? Anselmo\n",
      "Qual seu nome? Adriana\n",
      "Qual seu nome? sair\n",
      "['Anselmo', 'Adriana']\n"
     ]
    }
   ],
   "source": [
    "x = 0\n",
    "pessoas = []\n",
    "while x < 4:\n",
    "    nome = input('Qual seu nome? ')\n",
    "    if nome == 'sair':\n",
    "        break\n",
    "    pessoas.append(nome)\n",
    "    x += 1\n",
    "print(pessoas)"
   ]
  },
  {
   "cell_type": "markdown",
   "metadata": {},
   "source": [
    "Eu adicionei um if dizendo que se a entrada da variavel nome for igual a \"sair\", uso a clausula \"break\" que encerra o programa e printa o conteudo da lista. Ai vai da criatividade de cada um como usar o while, as possibilidades são infinitas."
   ]
  }
 ],
 "metadata": {
  "anaconda-cloud": {},
  "kernelspec": {
   "display_name": "Python 3",
   "language": "python",
   "name": "python3"
  },
  "language_info": {
   "codemirror_mode": {
    "name": "ipython",
    "version": 3
   },
   "file_extension": ".py",
   "mimetype": "text/x-python",
   "name": "python",
   "nbconvert_exporter": "python",
   "pygments_lexer": "ipython3",
   "version": "3.5.2"
  }
 },
 "nbformat": 4,
 "nbformat_minor": 0
}
