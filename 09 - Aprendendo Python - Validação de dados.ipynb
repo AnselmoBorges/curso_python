{
 "cells": [
  {
   "cell_type": "markdown",
   "metadata": {},
   "source": [
    "# 09 - Aprendendo Python - Validação de dados\n",
    "Até o momento estavamos ignorando a validação de dados até pra que ficasse mais facil de entender os passos anteriores, mas como a coisa está ficando séria, acho que é hora de incluir a validação nesse ponto.\n",
    "\n",
    "Vamos usar como exemplo o resultado do último exercício e fazer algumas alterações nele colocando validações:"
   ]
  },
  {
   "cell_type": "code",
   "execution_count": null,
   "metadata": {
    "collapsed": false
   },
   "outputs": [],
   "source": [
    "repetir = 's'\n",
    "fatura = []\n",
    "total = 0\n",
    "\n",
    "while repetir == 's':\n",
    "    produto = input('Digite o nome do produto: ')\n",
    "    preco = float(input('Digite o preço do produto: '))\n",
    "    fatura.append([produto,preco])\n",
    "    total += preco\n",
    "    repetir = input('Deseja comprar mais algum produto? (S ou N) ').lower()\n",
    "\n",
    "for i in fatura:\n",
    "    print(i[0],'-',i[1])\n",
    "\n",
    "print('O total da fatura é:',total)"
   ]
  },
  {
   "cell_type": "markdown",
   "metadata": {},
   "source": [
    "Note que em um mundo perfeito, onde sabemos quais entradas vão ser feitas, temos certeza que nosso programa vai rodar, mas a melhor forma de testar é chamar alguem que não conhece seu código pra testar esse programa, assim as entradas não vem com o vício do programador, aumentando o numero possível de possibilidades. Se por exemplo colocamos o preco com virgula (10,00) o programa gera um erro, veja a baixo:"
   ]
  },
  {
   "cell_type": "code",
   "execution_count": 2,
   "metadata": {
    "collapsed": false
   },
   "outputs": [
    {
     "name": "stdout",
     "output_type": "stream",
     "text": [
      "Digite o nome do produto: Caneta\n",
      "Digite o preço do produto: 10,00\n"
     ]
    },
    {
     "ename": "ValueError",
     "evalue": "could not convert string to float: '10,00'",
     "output_type": "error",
     "traceback": [
      "\u001b[1;31m\u001b[0m",
      "\u001b[1;31mValueError\u001b[0mTraceback (most recent call last)",
      "\u001b[1;32m<ipython-input-2-578614e71f5e>\u001b[0m in \u001b[0;36m<module>\u001b[1;34m()\u001b[0m\n\u001b[0;32m      5\u001b[0m \u001b[1;32mwhile\u001b[0m \u001b[0mrepetir\u001b[0m \u001b[1;33m==\u001b[0m \u001b[1;34m's'\u001b[0m\u001b[1;33m:\u001b[0m\u001b[1;33m\u001b[0m\u001b[0m\n\u001b[0;32m      6\u001b[0m     \u001b[0mproduto\u001b[0m \u001b[1;33m=\u001b[0m \u001b[0minput\u001b[0m\u001b[1;33m(\u001b[0m\u001b[1;34m'Digite o nome do produto: '\u001b[0m\u001b[1;33m)\u001b[0m\u001b[1;33m\u001b[0m\u001b[0m\n\u001b[1;32m----> 7\u001b[1;33m     \u001b[0mpreco\u001b[0m \u001b[1;33m=\u001b[0m \u001b[0mfloat\u001b[0m\u001b[1;33m(\u001b[0m\u001b[0minput\u001b[0m\u001b[1;33m(\u001b[0m\u001b[1;34m'Digite o preço do produto: '\u001b[0m\u001b[1;33m)\u001b[0m\u001b[1;33m)\u001b[0m\u001b[1;33m\u001b[0m\u001b[0m\n\u001b[0m\u001b[0;32m      8\u001b[0m     \u001b[0mfatura\u001b[0m\u001b[1;33m.\u001b[0m\u001b[0mappend\u001b[0m\u001b[1;33m(\u001b[0m\u001b[1;33m[\u001b[0m\u001b[0mproduto\u001b[0m\u001b[1;33m,\u001b[0m\u001b[0mpreco\u001b[0m\u001b[1;33m]\u001b[0m\u001b[1;33m)\u001b[0m\u001b[1;33m\u001b[0m\u001b[0m\n\u001b[0;32m      9\u001b[0m     \u001b[0mtotal\u001b[0m \u001b[1;33m+=\u001b[0m \u001b[0mpreco\u001b[0m\u001b[1;33m\u001b[0m\u001b[0m\n",
      "\u001b[1;31mValueError\u001b[0m: could not convert string to float: '10,00'"
     ]
    }
   ],
   "source": [
    "repetir = 's'\n",
    "fatura = []\n",
    "total = 0\n",
    "\n",
    "while repetir == 's':\n",
    "    produto = input('Digite o nome do produto: ')\n",
    "    preco = float(input('Digite o preço do produto: '))\n",
    "    fatura.append([produto,preco])\n",
    "    total += preco\n",
    "    repetir = input('Deseja comprar mais algum produto? (S ou N) ').lower()\n",
    "\n",
    "for i in fatura:\n",
    "    print(i[0],'-',i[1])\n",
    "\n",
    "print('O total da fatura é:',total)"
   ]
  },
  {
   "cell_type": "markdown",
   "metadata": {},
   "source": [
    "O erro ocorre pois o formato de numeros decimais (float) no Python são separados por virgula. Eu poderia simplesmente digitar um texto e o erro seria o mesmo. Imagina se digitamos 30 produtos e ele dá erro no ultimo, se o cara que pediu não ia ficar puto. Sendo assim vamos começar a validação de dados, dando um talento na variável preço."
   ]
  },
  {
   "cell_type": "code",
   "execution_count": 1,
   "metadata": {
    "collapsed": false
   },
   "outputs": [
    {
     "name": "stdout",
     "output_type": "stream",
     "text": [
      "Digite o nome do produto: caneta\n",
      "Digite o preço do produto: 23,00\n",
      "Formato de preço inválido, use apenas numero e separe os centavos com '.'\n",
      "Digite o preço do produto: aaa\n",
      "Formato de preço inválido, use apenas numero e separe os centavos com '.'\n",
      "Digite o preço do produto: teste\n",
      "Formato de preço inválido, use apenas numero e separe os centavos com '.'\n",
      "Digite o preço do produto: 23.00\n",
      "Deseja comprar mais algum produto? (S ou N) s\n",
      "Digite o nome do produto: caderno\n",
      "Digite o preço do produto: teste\n",
      "Formato de preço inválido, use apenas numero e separe os centavos com '.'\n",
      "Digite o preço do produto: 12\n",
      "Deseja comprar mais algum produto? (S ou N) n\n",
      "caneta - 23.0\n",
      "caderno - 12.0\n",
      "O total da fatura é: 35.0\n"
     ]
    }
   ],
   "source": [
    "repetir = 's'\n",
    "fatura = []\n",
    "total = 0\n",
    "valid_preco = False ## Variavel adicionada para arrumar o problema do preço\n",
    "\n",
    "while repetir == 's':\n",
    "    produto = input('Digite o nome do produto: ')\n",
    "\n",
    "## ESTOU PEGANDO ESSA PARTE DO MEU CODIGO E FAZENDO UMA VALIDAÇÃO DE ELE NÃO SER TEXTO E DANDO UMA INFORMAÇÃO\n",
    "## PEDINDO PARA QUE O CONTEUDO DO VALOR SEJA COLOCADO COM VALOR:\n",
    "    \n",
    "    while valid_preco == False:\n",
    "        preco = input('Digite o preço do produto: ')\n",
    "        try:\n",
    "            preco = float(preco)\n",
    "            valid_preco = True\n",
    "        except:\n",
    "            print(\"Formato de preço inválido, use apenas numero e separe os centavos com '.'\")\n",
    "    \n",
    "    fatura.append([produto,preco])\n",
    "    total += preco\n",
    "    valid_preco = False  ## Variavel alterada para false para que ele não repita o preço no proximo produto\n",
    "    repetir = input('Deseja comprar mais algum produto? (S ou N) ').lower()\n",
    "\n",
    "for i in fatura:\n",
    "    print(i[0],'-',i[1])\n",
    "\n",
    "print('O total da fatura é:',total)"
   ]
  },
  {
   "cell_type": "markdown",
   "metadata": {
    "collapsed": true
   },
   "source": [
    "No caso acima, dentro do while usamod a função try, que \"tenta\" setar a variavel preço para o tipo float e seta a variavel valid preço pra true, caso ela não consiga ela joga um except na tela que é uma mensagem, que informa uma mensagem pedindo para que ele forneça o valor correto, caso contrario ele tentará infinitas vezes, até que entre no padrão solicitado e saia do loop. V\n",
    "\n",
    "Mas o nosso programa ainda contem erros, caso eu coloque o valor do produto como -10 por exemplo ele vai dar um desconto de 10 reais, ou até compra só um lapis de -100 e te pedir dinheiro, rs. Como corrigir?"
   ]
  },
  {
   "cell_type": "code",
   "execution_count": null,
   "metadata": {
    "collapsed": false
   },
   "outputs": [],
   "source": [
    "repetir = 's'\n",
    "fatura = []\n",
    "total = 0\n",
    "valid_preco = False ## Variavel adicionada para arrumar o problema do preço\n",
    "\n",
    "while repetir == 's':\n",
    "    produto = input('Digite o nome do produto: ')\n",
    "\n",
    "## ESTOU PEGANDO ESSA PARTE DO MEU CODIGO E FAZENDO UMA VALIDAÇÃO DE ELE NÃO SER TEXTO E DANDO UMA INFORMAÇÃO\n",
    "## PEDINDO PARA QUE O CONTEUDO DO VALOR SEJA COLOCADO COM VALOR:\n",
    "    \n",
    "    while valid_preco == False:\n",
    "        preco = input('Digite o preço do produto: ')\n",
    "        try:\n",
    "            preco = float(preco)\n",
    "            ## Impedindo entrada de valores negativos\n",
    "            if preco <= 0:\n",
    "                print('O valor precisa ser positivo!')\n",
    "            else:\n",
    "                valid_preco = True\n",
    "        except:\n",
    "            print(\"Formato de preço inválido, use apenas numero e separe os centavos com '.'\")\n",
    "    \n",
    "    fatura.append([produto,preco])\n",
    "    total += preco\n",
    "    valid_preco = False  ## Variavel alterada para false para que ele não repita o preço no proximo produto\n",
    "    repetir = input('Deseja comprar mais algum produto? (S ou N) ').lower()\n",
    "\n",
    "for i in fatura:\n",
    "    print(i[0],'-',i[1])\n",
    "\n",
    "print('O total da fatura é:',total)"
   ]
  },
  {
   "cell_type": "markdown",
   "metadata": {},
   "source": [
    "No exemplo acima colocamos um if dentro do try após a tentativa de transformação da variaável preço pra float, caso ela tenha conseguido, já mandamos um if validando se ela é maior que 0, caso não seja, mensagem de erro, caso seja, segue o jogo."
   ]
  },
  {
   "cell_type": "markdown",
   "metadata": {},
   "source": [
    "## Exercicio:\n",
    "\n",
    "Usando nosso primeiro exercicio de média do aluno, valide se:\n",
    "* O programa nunca seja interrompido por erro\n",
    "* A nota seja entre o e 10\n",
    "* O numero de faltas seja entre 0 e 20"
   ]
  },
  {
   "cell_type": "code",
   "execution_count": 3,
   "metadata": {
    "collapsed": false
   },
   "outputs": [
    {
     "name": "stdout",
     "output_type": "stream",
     "text": [
      "Digite o nome do aluno: Anselmo\n",
      "Digite a nota da Prova 1: 5\n",
      "Digite a nota da Prova 2: 10\n",
      "Digite o total de faltas: 5\n",
      "Nome: Anselmo\n",
      "Média: 7.5\n",
      "Assiduidade: 75.0%\n",
      "Resultado: Aprovado\n"
     ]
    }
   ],
   "source": [
    "nome = input('Digite o nome do aluno: ')\n",
    "\n",
    "valid_nota = False\n",
    "while valid_nota == False:\n",
    "    nota1 = input('Digite a nota da Prova 1: ')\n",
    "    try:\n",
    "        nota1 = float(nota1)\n",
    "        if nota1 < 0 or nota1 > 10:\n",
    "            print('Nota inválida. Valor deve ser entre 0 e 10')\n",
    "        else:\n",
    "            valid_nota = True\n",
    "    except:\n",
    "        print('Nota inválida. Use apenas números e separe os decimais com ponto. (Ex. 9.5)')\n",
    "\n",
    "valid_nota = False\n",
    "while valid_nota == False:\n",
    "    nota2 = input('Digite a nota da Prova 2: ')\n",
    "    try:\n",
    "        nota2 = float(nota2)\n",
    "        if nota2 < 0 or nota2 > 10:\n",
    "            print('Nota inválida. Valor deve ser entre 0 e 10')\n",
    "        else:\n",
    "            valid_nota = True\n",
    "    except:\n",
    "        print('Nota inválida. Use apenas números e separe os decimais com ponto. (Ex. 9.5)')\n",
    "\n",
    "\n",
    "valid_faltas = False\n",
    "while valid_faltas == False:\n",
    "    faltas = input('Digite o total de faltas: ')\n",
    "    try:\n",
    "        faltas = float(faltas)\n",
    "        if faltas < 0 or faltas > 20:\n",
    "            print('Número de faltas inválido. Valor deve ser entre 0 e 20.')\n",
    "        else:\n",
    "            valid_faltas = True\n",
    "    except:\n",
    "        print('Número de faltas inválido. Use apenas números e separe os decimais com ponto. (Ex. 15.5)')\n",
    "\n",
    "\n",
    "\n",
    "media = (nota1+nota2)/2\n",
    "assid = (20-faltas)/20\n",
    "\n",
    "if media >= 6 and assid >= 0.7:\n",
    "    resultado = 'Aprovado'\n",
    "\n",
    "elif media < 6 and assid < 0.7:\n",
    "    resultado = 'Reprovado por média e por faltas'\n",
    "\n",
    "elif media < 6:\n",
    "    resultado = 'Reprovado por média'\n",
    "\n",
    "elif assid < 0.7:\n",
    "    resultado = 'Reprovado por faltas'\n",
    "\n",
    "else:\n",
    "    print('Erro')\n",
    "\n",
    "print('Nome:',nome)\n",
    "print('Média:',media)\n",
    "print('Assiduidade:',str(assid*100)+'%')\n",
    "print('Resultado:',resultado)"
   ]
  }
 ],
 "metadata": {
  "anaconda-cloud": {},
  "kernelspec": {
   "display_name": "Python 3",
   "language": "python",
   "name": "python3"
  },
  "language_info": {
   "codemirror_mode": {
    "name": "ipython",
    "version": 3
   },
   "file_extension": ".py",
   "mimetype": "text/x-python",
   "name": "python",
   "nbconvert_exporter": "python",
   "pygments_lexer": "ipython3",
   "version": "3.5.2"
  }
 },
 "nbformat": 4,
 "nbformat_minor": 1
}
