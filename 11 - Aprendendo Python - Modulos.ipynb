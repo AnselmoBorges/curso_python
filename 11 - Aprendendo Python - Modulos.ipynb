{
 "cells": [
  {
   "cell_type": "markdown",
   "metadata": {},
   "source": [
    "# 11 - Aprendendo Python - Módulos\n",
    "O que mais me impressionou em aprender Python, realmente são os módulos, já tentei aprender outras linguagens de progração durante toda minha vida de TI, eu sou do Sysadmin, do Banco, se eu tivesse que programar acho que eu moraria debaixo da ponte hoje, minha primeira linguagem foi Delphi e já desisti faz tempo de programação (dá pra ver pela linguagem, rs). Os módulos são pequenos programas em Python (sim, são outros .py), que são disponibilizados ou pelos próprios desenvolvedores do Python ou por pessoas da comunidade. \n",
    "\n",
    "Por exemplo, eu não preciso desenvolver um programa para resolver equações matemáticas, eu tenho o modulo **math** pra isso, eu não precisaria desenvolver um código para calculo de validade de CPFs por exemplo, existem modulos disponiveis na comunidade de pessoas que já fizeram, ou seja, você não precisa reinventar a roda, desenvolva somente o necessário e procure o que está pronto. Você vai diminuir e muito o tempo de desenvolvimento.\n",
    "\n",
    "Os módulos são divididos em 3 tipos:\n",
    "* Módulos Built ins\n",
    "* Módulos externos\n",
    "* Módulos próprios\n",
    "\n",
    "Vamos ver sobre cada um deles:"
   ]
  },
  {
   "cell_type": "markdown",
   "metadata": {},
   "source": [
    "## Módulos Built ins\n",
    "Os módulos built in são aqueles que vem junto com a sua versão de Python, como math, cmd, copy e muitos outros.\n",
    "\n",
    "Vamos usar alguns exemplos de modulos built in:"
   ]
  },
  {
   "cell_type": "code",
   "execution_count": 10,
   "metadata": {
    "collapsed": false
   },
   "outputs": [
    {
     "data": {
      "text/plain": [
       "3"
      ]
     },
     "execution_count": 10,
     "metadata": {},
     "output_type": "execute_result"
    }
   ],
   "source": [
    "# Usando o módulo Math:\n",
    "import math\n",
    "\n",
    "## ceil - Faz o arredondamento pra cima:\n",
    "math.ceil(3.2)"
   ]
  },
  {
   "cell_type": "code",
   "execution_count": 11,
   "metadata": {
    "collapsed": false
   },
   "outputs": [
    {
     "data": {
      "text/plain": [
       "3"
      ]
     },
     "execution_count": 11,
     "metadata": {},
     "output_type": "execute_result"
    }
   ],
   "source": [
    "## floor - Faz o arredondamento pra baixo:\n",
    "math.floor(3.7)"
   ]
  },
  {
   "cell_type": "code",
   "execution_count": 12,
   "metadata": {
    "collapsed": false
   },
   "outputs": [
    {
     "data": {
      "text/plain": [
       "1250.0"
      ]
     },
     "execution_count": 12,
     "metadata": {},
     "output_type": "execute_result"
    }
   ],
   "source": [
    "## fsum - Faz a somatória de uma lista, assim como fizemos naquele exemplo de vendas:\n",
    "vendas = [100, 250, 390, 400, 110]\n",
    "math.fsum(vendas)"
   ]
  },
  {
   "cell_type": "code",
   "execution_count": 13,
   "metadata": {
    "collapsed": false
   },
   "outputs": [
    {
     "data": {
      "text/plain": [
       "time.struct_time(tm_year=2019, tm_mon=7, tm_mday=31, tm_hour=19, tm_min=24, tm_sec=32, tm_wday=2, tm_yday=212, tm_isdst=0)"
      ]
     },
     "execution_count": 13,
     "metadata": {},
     "output_type": "execute_result"
    }
   ],
   "source": [
    "# Usando o modulo Time:\n",
    "import time\n",
    "time.localtime()"
   ]
  },
  {
   "cell_type": "code",
   "execution_count": 16,
   "metadata": {
    "collapsed": false
   },
   "outputs": [
    {
     "name": "stdout",
     "output_type": "stream",
     "text": [
      "A hora exata é:19:28\n"
     ]
    }
   ],
   "source": [
    "## Cada um dos subparametros eu posso pegar separado:\n",
    "hora = time.localtime().tm_hour\n",
    "minuto = time.localtime().tm_min\n",
    "\n",
    "print('A hora exata é:' + str(hora) + ':' + str(minuto))"
   ]
  },
  {
   "cell_type": "code",
   "execution_count": 17,
   "metadata": {
    "collapsed": false
   },
   "outputs": [
    {
     "data": {
      "text/plain": [
       "0.67"
      ]
     },
     "execution_count": 17,
     "metadata": {},
     "output_type": "execute_result"
    }
   ],
   "source": [
    "## Usando um contador com o módulo time:\n",
    "## Aqui eu inicio ela chamando pela primeira vez\n",
    "time.clock()\n",
    "## Aqui eu chamo ela denovo finalizando:\n",
    "time.clock()\n",
    "\n",
    "## Ele vai me dar o valor em milisegundos entre um e outro"
   ]
  },
  {
   "cell_type": "code",
   "execution_count": 24,
   "metadata": {
    "collapsed": false
   },
   "outputs": [],
   "source": [
    "## Vamos fazer um tempo de um contador onde eu escrevo a palavra \"programação\"\n",
    "def cont_tempo():\n",
    "    inicio = time.clock()\n",
    "    input('Escreva a palavra programação: ')\n",
    "    fim = time.clock()\n",
    "    tempo = fim - inicio\n",
    "    print('Você levou ' + str(tempo) + ' para escrever a palavra programação')"
   ]
  },
  {
   "cell_type": "code",
   "execution_count": 25,
   "metadata": {
    "collapsed": false
   },
   "outputs": [
    {
     "name": "stdout",
     "output_type": "stream",
     "text": [
      "Escreva a palavra programação: hahahaha\n",
      "Você levou 0.0 para escrever a palavra programação\n"
     ]
    }
   ],
   "source": [
    "cont_tempo()"
   ]
  },
  {
   "cell_type": "code",
   "execution_count": 29,
   "metadata": {
    "collapsed": false
   },
   "outputs": [
    {
     "name": "stdout",
     "output_type": "stream",
     "text": [
      "['', '/opt/anaconda3/lib/python35.zip', '/opt/anaconda3/lib/python3.5', '/opt/anaconda3/lib/python3.5/plat-linux', '/opt/anaconda3/lib/python3.5/lib-dynload', '/opt/anaconda3/lib/python3.5/site-packages', '/opt/anaconda3/lib/python3.5/site-packages/Sphinx-1.4.1-py3.5.egg', '/opt/anaconda3/lib/python3.5/site-packages/setuptools-23.0.0-py3.5.egg', '/opt/anaconda3/lib/python3.5/site-packages/IPython/extensions', '/home/juser/.ipython']\n"
     ]
    }
   ],
   "source": [
    "## Posso usar o modulo sys e rodar comandos no S.O:\n",
    "import sys\n",
    "print(sys.path)"
   ]
  },
  {
   "cell_type": "code",
   "execution_count": 31,
   "metadata": {
    "collapsed": false
   },
   "outputs": [
    {
     "name": "stdout",
     "output_type": "stream",
     "text": [
      "Copyright (c) 2001-2016 Python Software Foundation.\n",
      "All Rights Reserved.\n",
      "\n",
      "Copyright (c) 2000 BeOpen.com.\n",
      "All Rights Reserved.\n",
      "\n",
      "Copyright (c) 1995-2001 Corporation for National Research Initiatives.\n",
      "All Rights Reserved.\n",
      "\n",
      "Copyright (c) 1991-1995 Stichting Mathematisch Centrum, Amsterdam.\n",
      "All Rights Reserved.\n"
     ]
    }
   ],
   "source": [
    "## Posso usar o modulo sys e rodar comandos no S.O:\n",
    "import sys\n",
    "print(sys.copyright)"
   ]
  },
  {
   "cell_type": "markdown",
   "metadata": {},
   "source": [
    "## Módulos Externos:\n",
    "Modulos externos são modulos que eu baixo na comunidade, eu uso o utilitário pip para baixar os caras, segue um exemplo baixando o módulo pygame:"
   ]
  },
  {
   "cell_type": "code",
   "execution_count": 32,
   "metadata": {
    "collapsed": false
   },
   "outputs": [
    {
     "name": "stdout",
     "output_type": "stream",
     "text": [
      "Collecting pygame\n",
      "\u001b[?25l  Downloading https://files.pythonhosted.org/packages/1d/c2/9a27669dc9f25978d70593d62405cf883b62cedf631ca996a10673000ab1/pygame-1.9.6-cp35-cp35m-manylinux1_x86_64.whl (11.4MB)\n",
      "\u001b[K     |████████████████████████████████| 11.4MB 5.5MB/s \n",
      "\u001b[?25hInstalling collected packages: pygame\n",
      "Successfully installed pygame-1.9.6\n"
     ]
    }
   ],
   "source": [
    "## Vou usar o modulo sys e através dele baixar o pygame via pip:\n",
    "import sys\n",
    "!{sys.executable} -m pip install pygame"
   ]
  },
  {
   "cell_type": "code",
   "execution_count": 42,
   "metadata": {
    "collapsed": false
   },
   "outputs": [],
   "source": [
    "## Vou baixar um outro modulo que pode ser encontrado no site SciPy.org que possui algumas bibliotecas matemáticas, vou baixar o\n",
    "## Mathplotlib, que pega os numeros e transforma em gráficos funcionais e vamos usar um exemplo inclusive:\n",
    "\n",
    "## Importando o modulo:\n",
    "#import sys\n",
    "#!{sys.executable} -m pip install matplotlib\n",
    "\n",
    "import matplotlib.pyplot as plt\n",
    "## Vou criar um grafico de vendas, como só posso trabalhar com numeros inicialmente eu vou colocar no eixo x meses de janeiro a \n",
    "## junho em numeros e no eixo Y vou ter o valores de vendas por exemplo. lembrando que as 2 listas tem que ter o mesmo numero\n",
    "## de elementos\n",
    "x = [1,2,3,4,5,6]\n",
    "y = [100,200,220,150,120,300]\n",
    "plt.switch_backend('agg')\n",
    "## Agora vou chamar a biblioteca com o alias \"plt\"\n",
    "plt.plot([1,2,3,4,5,6])\n",
    "plt.show()"
   ]
  },
  {
   "cell_type": "markdown",
   "metadata": {},
   "source": [
    "## Modulos próprios:\n",
    "Partindo do principio que tudo que desenvolvemos pode ser usado como módulo, eu posso simplesmente salvar um módulo meu na pasta lib do python e fazer a importação. Lembra do nosso exemplo anterior do calculo de IMC? Podemos separa a parte das funções da parte do código, fazendo básicamente o seguinte:"
   ]
  },
  {
   "cell_type": "code",
   "execution_count": 5,
   "metadata": {
    "collapsed": false
   },
   "outputs": [
    {
     "name": "stdout",
     "output_type": "stream",
     "text": [
      "Vamos calcular seu IMC?\n"
     ]
    }
   ],
   "source": [
    "## Pego inicialmente a parte das funções do meu programa, aquelas que defini qual o calculo do IMC e a classificação do IMC.\n",
    "## Com isso eu salvo esse arquivo como modimc.py e salvamos na pasta lib de instalação do Python, no meu caso o caminho é:\n",
    "## /opt/anaconda3/pkgs e dentro de cada pasta está o conteudo do módulo, sendo assim ficaria:\n",
    "\n",
    "def imc(peso,altura):\n",
    "    imc = peso / (altura*altura)\n",
    "    return imc\n",
    "\n",
    "def class_imc(sexo,peso,altura):\n",
    "    valor_imc = imc(peso,altura)\n",
    "\n",
    "    if sexo == 'm':\n",
    "        if valor_imc < 20.7:\n",
    "            return \"Abaixo do peso\"\n",
    "        elif valor_imc >= 20.7 and valor_imc < 26.4:\n",
    "            return \"Peso normal\"\n",
    "        elif valor_imc >= 26.4 and valor_imc < 27.8:\n",
    "            return \"Marginalmente acima do peso\"\n",
    "        elif valor_imc >= 27.8 and valor_imc < 31.1:\n",
    "            return \"Acima do peso ideal\"\n",
    "        elif valor_imc >= 31.1:\n",
    "            return \"Obesidade\"\n",
    "        else:\n",
    "            return \"Erro de cálculo. Entre em contato com o administrador\"\n",
    "\n",
    "    if sexo == 'f':\n",
    "        if valor_imc < 19.1:\n",
    "            return \"Abaixo do peso\"\n",
    "        elif valor_imc >= 19.1 and valor_imc < 25.8:\n",
    "            return \"no peso normal\"\n",
    "        elif valor_imc >= 25.8 and valor_imc < 27.3:\n",
    "            return \"Mwio fora do peso\"\n",
    "        elif valor_imc >= 27.3 and valor_imc < 32.3:\n",
    "            return \"Acima do peso\"\n",
    "        elif valor_imc >= 32.3:\n",
    "            return \"Obesão\"\n",
    "        else:\n",
    "            return \"Erro de cálculo. Entre em contato com o administrador\"\n",
    "\n",
    "print('Vamos calcular seu IMC?')"
   ]
  },
  {
   "cell_type": "code",
   "execution_count": 6,
   "metadata": {
    "collapsed": false
   },
   "outputs": [
    {
     "ename": "ImportError",
     "evalue": "No module named 'modimc'",
     "output_type": "error",
     "traceback": [
      "\u001b[1;31m\u001b[0m",
      "\u001b[1;31mImportError\u001b[0mTraceback (most recent call last)",
      "\u001b[1;32m<ipython-input-6-76dfad98a1fe>\u001b[0m in \u001b[0;36m<module>\u001b[1;34m()\u001b[0m\n\u001b[0;32m      2\u001b[0m \u001b[1;33m\u001b[0m\u001b[0m\n\u001b[0;32m      3\u001b[0m \u001b[1;31m## Note abaixo que eu não preciso colocar o .py no final, pois ele já reconhece sendo um programa em Python.\u001b[0m\u001b[1;33m\u001b[0m\u001b[1;33m\u001b[0m\u001b[0m\n\u001b[1;32m----> 4\u001b[1;33m \u001b[1;32mimport\u001b[0m \u001b[0mmodimc\u001b[0m\u001b[1;33m\u001b[0m\u001b[0m\n\u001b[0m\u001b[0;32m      5\u001b[0m \u001b[1;33m\u001b[0m\u001b[0m\n\u001b[0;32m      6\u001b[0m \u001b[1;31m## Dica: Caso o nome do módulo for muito grande eu posso criar um alias para ele e usar no código, vou deixar comentado:\u001b[0m\u001b[1;33m\u001b[0m\u001b[1;33m\u001b[0m\u001b[0m\n",
      "\u001b[1;31mImportError\u001b[0m: No module named 'modimc'"
     ]
    }
   ],
   "source": [
    "## A segunda parte ficaria a parte funcional do código, importando o modulo criado de nome modimc.py logo no começo do código:\n",
    "\n",
    "## Note abaixo que eu não preciso colocar o .py no final, pois ele já reconhece sendo um programa em Python.\n",
    "import modimc\n",
    "\n",
    "## Dica: Caso o nome do módulo for muito grande eu posso criar um alias para ele e usar no código, vou deixar comentado:\n",
    "## import modimc as imc\n",
    "\n",
    "valid_sexo = False\n",
    "while valid_sexo == False:\n",
    "    sexo = input('Digite o seu sexo (M ou F): ').lower()\n",
    "    if sexo != 'm' and sexo != 'f':\n",
    "        print('Sexo inválido. Digite M ou F.')\n",
    "    else:\n",
    "        valid_sexo = True\n",
    "        print('\\n')\n",
    "\n",
    "valid_peso = False\n",
    "while valid_peso == False:\n",
    "    peso = input('Digite o peso (ex. 68.5): ')\n",
    "    try:\n",
    "        peso = float(peso)\n",
    "        if peso <= 0 or peso > 350:\n",
    "            print('Peso inválido. Número não pode ser zero ou negativo e deve ser inferior a 350.')\n",
    "        else:\n",
    "            valid_peso = True\n",
    "            print('\\n')\n",
    "    except:\n",
    "        print('Peso inválido. Use apenas números e separe os decimais com ponto.')\n",
    "\n",
    "valid_altura = False\n",
    "while valid_altura == False:\n",
    "    altura = input('Digite a altura em metros (ex. 1.70): ')\n",
    "    try:\n",
    "        altura = float(altura)\n",
    "        if altura <= 0 or altura > 3:\n",
    "            print('Altura inválida. Número não pode ser zero ou negativo e deve ser inferior a 3 metros.')\n",
    "        else:\n",
    "            valid_altura = True\n",
    "            print('\\n')\n",
    "    except:\n",
    "        print('Altura inválida. Use apenas números e separe os decimais com ponto.')\n",
    "\n",
    "\n",
    "v_imc = str(imc(peso,altura))\n",
    "c_imc = class_imc(sexo,peso,altura)\n",
    "\n",
    "print('O seu IMC é:',v_imc[0:5])\n",
    "print('A sua classificação é:',c_imc)"
   ]
  },
  {
   "cell_type": "markdown",
   "metadata": {},
   "source": [
    "O erro apresentado acima é porque eu não coloquei meu módulo na pasta, mas seria básicamente isso."
   ]
  },
  {
   "cell_type": "markdown",
   "metadata": {},
   "source": [
    "## Exercício:\n",
    "Vamos fazer um exercicio usando os módulos."
   ]
  }
 ],
 "metadata": {
  "anaconda-cloud": {},
  "kernelspec": {
   "display_name": "Python 3",
   "language": "python",
   "name": "python3"
  },
  "language_info": {
   "codemirror_mode": {
    "name": "ipython",
    "version": 3
   },
   "file_extension": ".py",
   "mimetype": "text/x-python",
   "name": "python",
   "nbconvert_exporter": "python",
   "pygments_lexer": "ipython3",
   "version": "3.5.2"
  }
 },
 "nbformat": 4,
 "nbformat_minor": 0
}
