{
 "cells": [
  {
   "cell_type": "markdown",
   "metadata": {},
   "source": [
    "# Aprendendo Python - Trabalhando com Strings\n",
    "Nesso notebook vamos ver como trabalhar variaveis String, nela podemos pegar determinados caracteres, ver o numero de caracteres de uma variavel, concatenar entre outras coisas. Pode parecer que não se usa isso, mas na área de Ciência e engenharia de dados se usa muito para tratamento das informações. Vamos ver como podemos fazer isso começando com o lengh (comprimento)\n",
    "\n",
    "## len - comprimento\n",
    "A função len mostra o numero de caracteres da variável, no caso abaixo o nome anselmo tem 7 caracteres."
   ]
  },
  {
   "cell_type": "code",
   "execution_count": 3,
   "metadata": {},
   "outputs": [
    {
     "data": {
      "text/plain": [
       "7"
      ]
     },
     "execution_count": 3,
     "metadata": {},
     "output_type": "execute_result"
    }
   ],
   "source": [
    "nome = 'anselmo'\n",
    "len(nome)"
   ]
  },
  {
   "cell_type": "markdown",
   "metadata": {},
   "source": [
    "## Concatenando string e multiplicando:\n",
    "Podemos concatenar string formando frases e conteudo de acordo com a necessidade, segue um exemplo abaixo:"
   ]
  },
  {
   "cell_type": "code",
   "execution_count": 4,
   "metadata": {},
   "outputs": [
    {
     "data": {
      "text/plain": [
       "'anselmoborges'"
      ]
     },
     "execution_count": 4,
     "metadata": {},
     "output_type": "execute_result"
    }
   ],
   "source": [
    "nome = 'anselmo'\n",
    "sobrenome ='borges'\n",
    "nome + sobrenome"
   ]
  },
  {
   "cell_type": "code",
   "execution_count": 5,
   "metadata": {},
   "outputs": [
    {
     "name": "stdout",
     "output_type": "stream",
     "text": [
      "Meu nome é: anselmo borges\n"
     ]
    }
   ],
   "source": [
    "print('Meu nome é:',nome + ' ' + sobrenome)"
   ]
  },
  {
   "cell_type": "code",
   "execution_count": 7,
   "metadata": {},
   "outputs": [
    {
     "data": {
      "text/plain": [
       "'kkkkkkkkkkkkkkkkkkkkkkkkkkkkkk'"
      ]
     },
     "execution_count": 7,
     "metadata": {},
     "output_type": "execute_result"
    }
   ],
   "source": [
    "risada = 'k'\n",
    "risada * 30"
   ]
  },
  {
   "cell_type": "markdown",
   "metadata": {},
   "source": [
    "## Pegando a localização de caracteres através de indices:\n",
    "Podemos pegar a posição de um caracter atraves da posição dele na variavel, isso seria muito util se no código de rastreamento do correio por exemplo quisessemos pegar os caracteres que representa o pais por exemplo, ou pegarmos somente os digitos do RG entre outras coisas. Isso apesar de parecer besta é extremamente utilizado.\n",
    "\n",
    "O indice no Python funciona da seguinte forma, na variavel nome por exemplo onde o texto era anselmo, tenho 7 caracteres, porem suas posições partem do 0, ou seja, 0 é o a, 1 é o n, 2 é o s e assim por diante. Segue um exemplo abaixo:"
   ]
  },
  {
   "cell_type": "code",
   "execution_count": 8,
   "metadata": {},
   "outputs": [
    {
     "data": {
      "text/plain": [
       "'e'"
      ]
     },
     "execution_count": 8,
     "metadata": {},
     "output_type": "execute_result"
    }
   ],
   "source": [
    "nome = 'anselmo'\n",
    "nome[3]"
   ]
  },
  {
   "cell_type": "markdown",
   "metadata": {},
   "source": [
    "Tenho a possibilidade de ir de traz pra frente usando o -1 pra começar, se liga no exemplo:"
   ]
  },
  {
   "cell_type": "code",
   "execution_count": 9,
   "metadata": {},
   "outputs": [
    {
     "data": {
      "text/plain": [
       "'o'"
      ]
     },
     "execution_count": 9,
     "metadata": {},
     "output_type": "execute_result"
    }
   ],
   "source": [
    "nome[-1]"
   ]
  },
  {
   "cell_type": "markdown",
   "metadata": {},
   "source": [
    "Posso pegar também um pedaço do nome no meu caso quero apenas as 3 primeiras letras (nesse caso uso do 0 ao 3 porque onde meu \"cursor\" parou não conta), parece complicado mas com treino melhora:"
   ]
  },
  {
   "cell_type": "code",
   "execution_count": 11,
   "metadata": {},
   "outputs": [
    {
     "data": {
      "text/plain": [
       "'ans'"
      ]
     },
     "execution_count": 11,
     "metadata": {},
     "output_type": "execute_result"
    }
   ],
   "source": [
    "nome[0:3]"
   ]
  },
  {
   "cell_type": "markdown",
   "metadata": {},
   "source": [
    "## Exercicios:\n",
    "Criar uma variavel com o nome, e outras 2 com os sobrenomes, criar uma variavel com a inicial de cada nome:"
   ]
  },
  {
   "cell_type": "code",
   "execution_count": 16,
   "metadata": {},
   "outputs": [
    {
     "name": "stdout",
     "output_type": "stream",
     "text": [
      "abm\n"
     ]
    }
   ],
   "source": [
    "nome = 'anselmo'\n",
    "sobrenome1 = 'borges'\n",
    "sobrenome2 = 'moraes'\n",
    "iniciais = nome[0]+sobrenome1[0]+sobrenome2[0]\n",
    "print(iniciais)"
   ]
  },
  {
   "cell_type": "markdown",
   "metadata": {},
   "source": [
    "Criar um email com base nas variaveis apresentas, sendo nome e sobrenome2, será necessário a criação do nome da empresa."
   ]
  },
  {
   "cell_type": "code",
   "execution_count": 18,
   "metadata": {},
   "outputs": [
    {
     "name": "stdout",
     "output_type": "stream",
     "text": [
      "anselmo.moraes@tabajara.com.br\n"
     ]
    }
   ],
   "source": [
    "empresa = 'tabajara'\n",
    "print(nome+'.'+sobrenome2+'@'+empresa+'.com.br')\n"
   ]
  }
 ],
 "metadata": {
  "kernelspec": {
   "display_name": "Python 3",
   "language": "python",
   "name": "python3"
  },
  "language_info": {
   "codemirror_mode": {
    "name": "ipython",
    "version": 3
   },
   "file_extension": ".py",
   "mimetype": "text/x-python",
   "name": "python",
   "nbconvert_exporter": "python",
   "pygments_lexer": "ipython3",
   "version": "3.7.3"
  }
 },
 "nbformat": 4,
 "nbformat_minor": 2
}
